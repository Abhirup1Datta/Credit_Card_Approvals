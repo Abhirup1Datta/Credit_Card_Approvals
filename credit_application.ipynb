{
  "nbformat": 4,
  "nbformat_minor": 0,
  "metadata": {
    "colab": {
      "provenance": [],
      "toc_visible": true
    },
    "kernelspec": {
      "name": "python3",
      "display_name": "Python 3"
    },
    "language_info": {
      "name": "python"
    }
  },
  "cells": [
    {
      "cell_type": "markdown",
      "source": [
        "###Introduction\n",
        "\n",
        "#### Credit card applications\n",
        "Credit Card department in a bank is a leading data science adopter. Acquiring new credit card users is always a key priority for the bank. Giving credit cards without due diligence or assessment for creditworthiness is a huge risk.Many of them get rejected for many reasons, like high loan balances, low income levels, or too many inquiries on an individual's credit report, for example. Manually analyzing these applications is mundane, error-prone, and time-consuming (and time is money!). \n",
        "\n",
        "Luckily, this task can be automated with the power of machine learning and pretty much every commercial bank does so nowadays.\n",
        "From the last many decades, the credit card department is using a data-driven credit assessment methodology called Credit Scoring, and the model is called application scorecard. The application scorecard helps in the calculating level of risk associated with an applicant and based on strategic priority at a time, they decide the cut off value of the score for approving or rejecting a credit card application.  \n",
        "\n",
        "In this notebook, we will build an automatic credit card approval predictor using machine learning techniques, just like the real banks do.\n",
        "\n"
      ],
      "metadata": {
        "id": "u15K7neU7FS3"
      }
    },
    {
      "cell_type": "markdown",
      "source": [
        "### Datasets Description:\n",
        "There are 2 datasets present in this notebook:\n",
        "Application record (contains general information about applicant, such as applicant gender, DOB, education type, assets that applicant had, etc.)\n",
        "Credit record (contains applicant's loan payment records)\n",
        "\n",
        "👉 There are 18 variables in Credit_card data set:\n",
        "\n",
        "*   12 categorical variables,\n",
        "*   5 continuous variables, and\n",
        "*   1 variable to accommodate the applicant ID.\n",
        "\n",
        "👉 There are 2 variables in Credit_card_label data set:\n",
        "\n",
        "*   1 categorical variable for labels - 0 is application approved and 1 is    application rejected. \n",
        "*   1 variable to accommodate the applicant ID."
      ],
      "metadata": {
        "id": "gVDySKoT9OHX"
      }
    },
    {
      "cell_type": "code",
      "execution_count": null,
      "metadata": {
        "id": "jAladOKpzs3A"
      },
      "outputs": [],
      "source": [
        "import numpy as np\n",
        "import pandas as pd\n",
        "import matplotlib.pyplot as plt\n",
        "import seaborn as sns"
      ]
    },
    {
      "cell_type": "code",
      "source": [
        "users=pd.read_csv('/content/Credit_card.csv')\n",
        "labels=pd.read_csv('/content/Credit_card_label.csv')"
      ],
      "metadata": {
        "id": "CMGBOI9a3NBV"
      },
      "execution_count": null,
      "outputs": []
    },
    {
      "cell_type": "code",
      "source": [
        "df=pd.merge(users,labels,how='inner',on='Ind_ID') #joining the 2 datasets"
      ],
      "metadata": {
        "id": "hUIGC5A7GH0t"
      },
      "execution_count": null,
      "outputs": []
    },
    {
      "cell_type": "code",
      "source": [
        "df.head()"
      ],
      "metadata": {
        "colab": {
          "base_uri": "https://localhost:8080/",
          "height": 357
        },
        "id": "ZNUVrYg8GvzU",
        "outputId": "fb697f63-f17f-4f00-8709-f28bba669138"
      },
      "execution_count": null,
      "outputs": [
        {
          "output_type": "execute_result",
          "data": {
            "text/plain": [
              "    Ind_ID GENDER Car_Owner Propert_Owner  CHILDREN  Annual_income  \\\n",
              "0  5008827      M         Y             Y         0       180000.0   \n",
              "1  5009744      F         Y             N         0       315000.0   \n",
              "2  5009746      F         Y             N         0       315000.0   \n",
              "3  5009749      F         Y             N         0            NaN   \n",
              "4  5009752      F         Y             N         0       315000.0   \n",
              "\n",
              "            Type_Income         EDUCATION Marital_status       Housing_type  \\\n",
              "0             Pensioner  Higher education        Married  House / apartment   \n",
              "1  Commercial associate  Higher education        Married  House / apartment   \n",
              "2  Commercial associate  Higher education        Married  House / apartment   \n",
              "3  Commercial associate  Higher education        Married  House / apartment   \n",
              "4  Commercial associate  Higher education        Married  House / apartment   \n",
              "\n",
              "   Birthday_count  Employed_days  Mobile_phone  Work_Phone  Phone  EMAIL_ID  \\\n",
              "0        -18772.0         365243             1           0      0         0   \n",
              "1        -13557.0           -586             1           1      1         0   \n",
              "2             NaN           -586             1           1      1         0   \n",
              "3        -13557.0           -586             1           1      1         0   \n",
              "4        -13557.0           -586             1           1      1         0   \n",
              "\n",
              "  Type_Occupation  Family_Members  label  \n",
              "0             NaN               2      1  \n",
              "1             NaN               2      1  \n",
              "2             NaN               2      1  \n",
              "3             NaN               2      1  \n",
              "4             NaN               2      1  "
            ],
            "text/html": [
              "\n",
              "  <div id=\"df-af326389-1658-45bb-94f1-66502eab6d5d\">\n",
              "    <div class=\"colab-df-container\">\n",
              "      <div>\n",
              "<style scoped>\n",
              "    .dataframe tbody tr th:only-of-type {\n",
              "        vertical-align: middle;\n",
              "    }\n",
              "\n",
              "    .dataframe tbody tr th {\n",
              "        vertical-align: top;\n",
              "    }\n",
              "\n",
              "    .dataframe thead th {\n",
              "        text-align: right;\n",
              "    }\n",
              "</style>\n",
              "<table border=\"1\" class=\"dataframe\">\n",
              "  <thead>\n",
              "    <tr style=\"text-align: right;\">\n",
              "      <th></th>\n",
              "      <th>Ind_ID</th>\n",
              "      <th>GENDER</th>\n",
              "      <th>Car_Owner</th>\n",
              "      <th>Propert_Owner</th>\n",
              "      <th>CHILDREN</th>\n",
              "      <th>Annual_income</th>\n",
              "      <th>Type_Income</th>\n",
              "      <th>EDUCATION</th>\n",
              "      <th>Marital_status</th>\n",
              "      <th>Housing_type</th>\n",
              "      <th>Birthday_count</th>\n",
              "      <th>Employed_days</th>\n",
              "      <th>Mobile_phone</th>\n",
              "      <th>Work_Phone</th>\n",
              "      <th>Phone</th>\n",
              "      <th>EMAIL_ID</th>\n",
              "      <th>Type_Occupation</th>\n",
              "      <th>Family_Members</th>\n",
              "      <th>label</th>\n",
              "    </tr>\n",
              "  </thead>\n",
              "  <tbody>\n",
              "    <tr>\n",
              "      <th>0</th>\n",
              "      <td>5008827</td>\n",
              "      <td>M</td>\n",
              "      <td>Y</td>\n",
              "      <td>Y</td>\n",
              "      <td>0</td>\n",
              "      <td>180000.0</td>\n",
              "      <td>Pensioner</td>\n",
              "      <td>Higher education</td>\n",
              "      <td>Married</td>\n",
              "      <td>House / apartment</td>\n",
              "      <td>-18772.0</td>\n",
              "      <td>365243</td>\n",
              "      <td>1</td>\n",
              "      <td>0</td>\n",
              "      <td>0</td>\n",
              "      <td>0</td>\n",
              "      <td>NaN</td>\n",
              "      <td>2</td>\n",
              "      <td>1</td>\n",
              "    </tr>\n",
              "    <tr>\n",
              "      <th>1</th>\n",
              "      <td>5009744</td>\n",
              "      <td>F</td>\n",
              "      <td>Y</td>\n",
              "      <td>N</td>\n",
              "      <td>0</td>\n",
              "      <td>315000.0</td>\n",
              "      <td>Commercial associate</td>\n",
              "      <td>Higher education</td>\n",
              "      <td>Married</td>\n",
              "      <td>House / apartment</td>\n",
              "      <td>-13557.0</td>\n",
              "      <td>-586</td>\n",
              "      <td>1</td>\n",
              "      <td>1</td>\n",
              "      <td>1</td>\n",
              "      <td>0</td>\n",
              "      <td>NaN</td>\n",
              "      <td>2</td>\n",
              "      <td>1</td>\n",
              "    </tr>\n",
              "    <tr>\n",
              "      <th>2</th>\n",
              "      <td>5009746</td>\n",
              "      <td>F</td>\n",
              "      <td>Y</td>\n",
              "      <td>N</td>\n",
              "      <td>0</td>\n",
              "      <td>315000.0</td>\n",
              "      <td>Commercial associate</td>\n",
              "      <td>Higher education</td>\n",
              "      <td>Married</td>\n",
              "      <td>House / apartment</td>\n",
              "      <td>NaN</td>\n",
              "      <td>-586</td>\n",
              "      <td>1</td>\n",
              "      <td>1</td>\n",
              "      <td>1</td>\n",
              "      <td>0</td>\n",
              "      <td>NaN</td>\n",
              "      <td>2</td>\n",
              "      <td>1</td>\n",
              "    </tr>\n",
              "    <tr>\n",
              "      <th>3</th>\n",
              "      <td>5009749</td>\n",
              "      <td>F</td>\n",
              "      <td>Y</td>\n",
              "      <td>N</td>\n",
              "      <td>0</td>\n",
              "      <td>NaN</td>\n",
              "      <td>Commercial associate</td>\n",
              "      <td>Higher education</td>\n",
              "      <td>Married</td>\n",
              "      <td>House / apartment</td>\n",
              "      <td>-13557.0</td>\n",
              "      <td>-586</td>\n",
              "      <td>1</td>\n",
              "      <td>1</td>\n",
              "      <td>1</td>\n",
              "      <td>0</td>\n",
              "      <td>NaN</td>\n",
              "      <td>2</td>\n",
              "      <td>1</td>\n",
              "    </tr>\n",
              "    <tr>\n",
              "      <th>4</th>\n",
              "      <td>5009752</td>\n",
              "      <td>F</td>\n",
              "      <td>Y</td>\n",
              "      <td>N</td>\n",
              "      <td>0</td>\n",
              "      <td>315000.0</td>\n",
              "      <td>Commercial associate</td>\n",
              "      <td>Higher education</td>\n",
              "      <td>Married</td>\n",
              "      <td>House / apartment</td>\n",
              "      <td>-13557.0</td>\n",
              "      <td>-586</td>\n",
              "      <td>1</td>\n",
              "      <td>1</td>\n",
              "      <td>1</td>\n",
              "      <td>0</td>\n",
              "      <td>NaN</td>\n",
              "      <td>2</td>\n",
              "      <td>1</td>\n",
              "    </tr>\n",
              "  </tbody>\n",
              "</table>\n",
              "</div>\n",
              "      <button class=\"colab-df-convert\" onclick=\"convertToInteractive('df-af326389-1658-45bb-94f1-66502eab6d5d')\"\n",
              "              title=\"Convert this dataframe to an interactive table.\"\n",
              "              style=\"display:none;\">\n",
              "        \n",
              "  <svg xmlns=\"http://www.w3.org/2000/svg\" height=\"24px\"viewBox=\"0 0 24 24\"\n",
              "       width=\"24px\">\n",
              "    <path d=\"M0 0h24v24H0V0z\" fill=\"none\"/>\n",
              "    <path d=\"M18.56 5.44l.94 2.06.94-2.06 2.06-.94-2.06-.94-.94-2.06-.94 2.06-2.06.94zm-11 1L8.5 8.5l.94-2.06 2.06-.94-2.06-.94L8.5 2.5l-.94 2.06-2.06.94zm10 10l.94 2.06.94-2.06 2.06-.94-2.06-.94-.94-2.06-.94 2.06-2.06.94z\"/><path d=\"M17.41 7.96l-1.37-1.37c-.4-.4-.92-.59-1.43-.59-.52 0-1.04.2-1.43.59L10.3 9.45l-7.72 7.72c-.78.78-.78 2.05 0 2.83L4 21.41c.39.39.9.59 1.41.59.51 0 1.02-.2 1.41-.59l7.78-7.78 2.81-2.81c.8-.78.8-2.07 0-2.86zM5.41 20L4 18.59l7.72-7.72 1.47 1.35L5.41 20z\"/>\n",
              "  </svg>\n",
              "      </button>\n",
              "      \n",
              "  <style>\n",
              "    .colab-df-container {\n",
              "      display:flex;\n",
              "      flex-wrap:wrap;\n",
              "      gap: 12px;\n",
              "    }\n",
              "\n",
              "    .colab-df-convert {\n",
              "      background-color: #E8F0FE;\n",
              "      border: none;\n",
              "      border-radius: 50%;\n",
              "      cursor: pointer;\n",
              "      display: none;\n",
              "      fill: #1967D2;\n",
              "      height: 32px;\n",
              "      padding: 0 0 0 0;\n",
              "      width: 32px;\n",
              "    }\n",
              "\n",
              "    .colab-df-convert:hover {\n",
              "      background-color: #E2EBFA;\n",
              "      box-shadow: 0px 1px 2px rgba(60, 64, 67, 0.3), 0px 1px 3px 1px rgba(60, 64, 67, 0.15);\n",
              "      fill: #174EA6;\n",
              "    }\n",
              "\n",
              "    [theme=dark] .colab-df-convert {\n",
              "      background-color: #3B4455;\n",
              "      fill: #D2E3FC;\n",
              "    }\n",
              "\n",
              "    [theme=dark] .colab-df-convert:hover {\n",
              "      background-color: #434B5C;\n",
              "      box-shadow: 0px 1px 3px 1px rgba(0, 0, 0, 0.15);\n",
              "      filter: drop-shadow(0px 1px 2px rgba(0, 0, 0, 0.3));\n",
              "      fill: #FFFFFF;\n",
              "    }\n",
              "  </style>\n",
              "\n",
              "      <script>\n",
              "        const buttonEl =\n",
              "          document.querySelector('#df-af326389-1658-45bb-94f1-66502eab6d5d button.colab-df-convert');\n",
              "        buttonEl.style.display =\n",
              "          google.colab.kernel.accessAllowed ? 'block' : 'none';\n",
              "\n",
              "        async function convertToInteractive(key) {\n",
              "          const element = document.querySelector('#df-af326389-1658-45bb-94f1-66502eab6d5d');\n",
              "          const dataTable =\n",
              "            await google.colab.kernel.invokeFunction('convertToInteractive',\n",
              "                                                     [key], {});\n",
              "          if (!dataTable) return;\n",
              "\n",
              "          const docLinkHtml = 'Like what you see? Visit the ' +\n",
              "            '<a target=\"_blank\" href=https://colab.research.google.com/notebooks/data_table.ipynb>data table notebook</a>'\n",
              "            + ' to learn more about interactive tables.';\n",
              "          element.innerHTML = '';\n",
              "          dataTable['output_type'] = 'display_data';\n",
              "          await google.colab.output.renderOutput(dataTable, element);\n",
              "          const docLink = document.createElement('div');\n",
              "          docLink.innerHTML = docLinkHtml;\n",
              "          element.appendChild(docLink);\n",
              "        }\n",
              "      </script>\n",
              "    </div>\n",
              "  </div>\n",
              "  "
            ]
          },
          "metadata": {},
          "execution_count": 520
        }
      ]
    },
    {
      "cell_type": "code",
      "source": [
        "df.info()"
      ],
      "metadata": {
        "colab": {
          "base_uri": "https://localhost:8080/"
        },
        "id": "7rG7ADW33kmy",
        "outputId": "4e7ae845-ea35-469f-e54f-0145802cf838"
      },
      "execution_count": null,
      "outputs": [
        {
          "output_type": "stream",
          "name": "stdout",
          "text": [
            "<class 'pandas.core.frame.DataFrame'>\n",
            "Int64Index: 1548 entries, 0 to 1547\n",
            "Data columns (total 19 columns):\n",
            " #   Column           Non-Null Count  Dtype  \n",
            "---  ------           --------------  -----  \n",
            " 0   Ind_ID           1548 non-null   int64  \n",
            " 1   GENDER           1541 non-null   object \n",
            " 2   Car_Owner        1548 non-null   object \n",
            " 3   Propert_Owner    1548 non-null   object \n",
            " 4   CHILDREN         1548 non-null   int64  \n",
            " 5   Annual_income    1525 non-null   float64\n",
            " 6   Type_Income      1548 non-null   object \n",
            " 7   EDUCATION        1548 non-null   object \n",
            " 8   Marital_status   1548 non-null   object \n",
            " 9   Housing_type     1548 non-null   object \n",
            " 10  Birthday_count   1526 non-null   float64\n",
            " 11  Employed_days    1548 non-null   int64  \n",
            " 12  Mobile_phone     1548 non-null   int64  \n",
            " 13  Work_Phone       1548 non-null   int64  \n",
            " 14  Phone            1548 non-null   int64  \n",
            " 15  EMAIL_ID         1548 non-null   int64  \n",
            " 16  Type_Occupation  1060 non-null   object \n",
            " 17  Family_Members   1548 non-null   int64  \n",
            " 18  label            1548 non-null   int64  \n",
            "dtypes: float64(2), int64(9), object(8)\n",
            "memory usage: 241.9+ KB\n"
          ]
        }
      ]
    },
    {
      "cell_type": "markdown",
      "source": [
        "###Initial Analysis"
      ],
      "metadata": {
        "id": "Ix9noT3sJ27S"
      }
    },
    {
      "cell_type": "code",
      "source": [
        "df.describe()"
      ],
      "metadata": {
        "colab": {
          "base_uri": "https://localhost:8080/",
          "height": 300
        },
        "id": "IKvGh6Kem14J",
        "outputId": "a8fd5381-4a27-4cc3-ad7f-d838b8495614"
      },
      "execution_count": null,
      "outputs": [
        {
          "output_type": "execute_result",
          "data": {
            "text/plain": [
              "             Ind_ID     CHILDREN  Annual_income  Birthday_count  \\\n",
              "count  1.548000e+03  1548.000000   1.525000e+03     1526.000000   \n",
              "mean   5.078920e+06     0.412791   1.913993e+05   -16040.342071   \n",
              "std    4.171759e+04     0.776691   1.132530e+05     4229.503202   \n",
              "min    5.008827e+06     0.000000   3.375000e+04   -24946.000000   \n",
              "25%    5.045070e+06     0.000000   1.215000e+05   -19553.000000   \n",
              "50%    5.078842e+06     0.000000   1.665000e+05   -15661.500000   \n",
              "75%    5.115673e+06     1.000000   2.250000e+05   -12417.000000   \n",
              "max    5.150412e+06    14.000000   1.575000e+06    -7705.000000   \n",
              "\n",
              "       Employed_days  Mobile_phone   Work_Phone        Phone     EMAIL_ID  \\\n",
              "count    1548.000000        1548.0  1548.000000  1548.000000  1548.000000   \n",
              "mean    59364.689922           1.0     0.208010     0.309432     0.092377   \n",
              "std    137808.062701           0.0     0.406015     0.462409     0.289651   \n",
              "min    -14887.000000           1.0     0.000000     0.000000     0.000000   \n",
              "25%     -3174.500000           1.0     0.000000     0.000000     0.000000   \n",
              "50%     -1565.000000           1.0     0.000000     0.000000     0.000000   \n",
              "75%      -431.750000           1.0     0.000000     1.000000     0.000000   \n",
              "max    365243.000000           1.0     1.000000     1.000000     1.000000   \n",
              "\n",
              "       Family_Members        label  \n",
              "count     1548.000000  1548.000000  \n",
              "mean         2.161499     0.113049  \n",
              "std          0.947772     0.316755  \n",
              "min          1.000000     0.000000  \n",
              "25%          2.000000     0.000000  \n",
              "50%          2.000000     0.000000  \n",
              "75%          3.000000     0.000000  \n",
              "max         15.000000     1.000000  "
            ],
            "text/html": [
              "\n",
              "  <div id=\"df-40fabbe5-2c2b-4d9c-bdcc-b9fbb8bd7f55\">\n",
              "    <div class=\"colab-df-container\">\n",
              "      <div>\n",
              "<style scoped>\n",
              "    .dataframe tbody tr th:only-of-type {\n",
              "        vertical-align: middle;\n",
              "    }\n",
              "\n",
              "    .dataframe tbody tr th {\n",
              "        vertical-align: top;\n",
              "    }\n",
              "\n",
              "    .dataframe thead th {\n",
              "        text-align: right;\n",
              "    }\n",
              "</style>\n",
              "<table border=\"1\" class=\"dataframe\">\n",
              "  <thead>\n",
              "    <tr style=\"text-align: right;\">\n",
              "      <th></th>\n",
              "      <th>Ind_ID</th>\n",
              "      <th>CHILDREN</th>\n",
              "      <th>Annual_income</th>\n",
              "      <th>Birthday_count</th>\n",
              "      <th>Employed_days</th>\n",
              "      <th>Mobile_phone</th>\n",
              "      <th>Work_Phone</th>\n",
              "      <th>Phone</th>\n",
              "      <th>EMAIL_ID</th>\n",
              "      <th>Family_Members</th>\n",
              "      <th>label</th>\n",
              "    </tr>\n",
              "  </thead>\n",
              "  <tbody>\n",
              "    <tr>\n",
              "      <th>count</th>\n",
              "      <td>1.548000e+03</td>\n",
              "      <td>1548.000000</td>\n",
              "      <td>1.525000e+03</td>\n",
              "      <td>1526.000000</td>\n",
              "      <td>1548.000000</td>\n",
              "      <td>1548.0</td>\n",
              "      <td>1548.000000</td>\n",
              "      <td>1548.000000</td>\n",
              "      <td>1548.000000</td>\n",
              "      <td>1548.000000</td>\n",
              "      <td>1548.000000</td>\n",
              "    </tr>\n",
              "    <tr>\n",
              "      <th>mean</th>\n",
              "      <td>5.078920e+06</td>\n",
              "      <td>0.412791</td>\n",
              "      <td>1.913993e+05</td>\n",
              "      <td>-16040.342071</td>\n",
              "      <td>59364.689922</td>\n",
              "      <td>1.0</td>\n",
              "      <td>0.208010</td>\n",
              "      <td>0.309432</td>\n",
              "      <td>0.092377</td>\n",
              "      <td>2.161499</td>\n",
              "      <td>0.113049</td>\n",
              "    </tr>\n",
              "    <tr>\n",
              "      <th>std</th>\n",
              "      <td>4.171759e+04</td>\n",
              "      <td>0.776691</td>\n",
              "      <td>1.132530e+05</td>\n",
              "      <td>4229.503202</td>\n",
              "      <td>137808.062701</td>\n",
              "      <td>0.0</td>\n",
              "      <td>0.406015</td>\n",
              "      <td>0.462409</td>\n",
              "      <td>0.289651</td>\n",
              "      <td>0.947772</td>\n",
              "      <td>0.316755</td>\n",
              "    </tr>\n",
              "    <tr>\n",
              "      <th>min</th>\n",
              "      <td>5.008827e+06</td>\n",
              "      <td>0.000000</td>\n",
              "      <td>3.375000e+04</td>\n",
              "      <td>-24946.000000</td>\n",
              "      <td>-14887.000000</td>\n",
              "      <td>1.0</td>\n",
              "      <td>0.000000</td>\n",
              "      <td>0.000000</td>\n",
              "      <td>0.000000</td>\n",
              "      <td>1.000000</td>\n",
              "      <td>0.000000</td>\n",
              "    </tr>\n",
              "    <tr>\n",
              "      <th>25%</th>\n",
              "      <td>5.045070e+06</td>\n",
              "      <td>0.000000</td>\n",
              "      <td>1.215000e+05</td>\n",
              "      <td>-19553.000000</td>\n",
              "      <td>-3174.500000</td>\n",
              "      <td>1.0</td>\n",
              "      <td>0.000000</td>\n",
              "      <td>0.000000</td>\n",
              "      <td>0.000000</td>\n",
              "      <td>2.000000</td>\n",
              "      <td>0.000000</td>\n",
              "    </tr>\n",
              "    <tr>\n",
              "      <th>50%</th>\n",
              "      <td>5.078842e+06</td>\n",
              "      <td>0.000000</td>\n",
              "      <td>1.665000e+05</td>\n",
              "      <td>-15661.500000</td>\n",
              "      <td>-1565.000000</td>\n",
              "      <td>1.0</td>\n",
              "      <td>0.000000</td>\n",
              "      <td>0.000000</td>\n",
              "      <td>0.000000</td>\n",
              "      <td>2.000000</td>\n",
              "      <td>0.000000</td>\n",
              "    </tr>\n",
              "    <tr>\n",
              "      <th>75%</th>\n",
              "      <td>5.115673e+06</td>\n",
              "      <td>1.000000</td>\n",
              "      <td>2.250000e+05</td>\n",
              "      <td>-12417.000000</td>\n",
              "      <td>-431.750000</td>\n",
              "      <td>1.0</td>\n",
              "      <td>0.000000</td>\n",
              "      <td>1.000000</td>\n",
              "      <td>0.000000</td>\n",
              "      <td>3.000000</td>\n",
              "      <td>0.000000</td>\n",
              "    </tr>\n",
              "    <tr>\n",
              "      <th>max</th>\n",
              "      <td>5.150412e+06</td>\n",
              "      <td>14.000000</td>\n",
              "      <td>1.575000e+06</td>\n",
              "      <td>-7705.000000</td>\n",
              "      <td>365243.000000</td>\n",
              "      <td>1.0</td>\n",
              "      <td>1.000000</td>\n",
              "      <td>1.000000</td>\n",
              "      <td>1.000000</td>\n",
              "      <td>15.000000</td>\n",
              "      <td>1.000000</td>\n",
              "    </tr>\n",
              "  </tbody>\n",
              "</table>\n",
              "</div>\n",
              "      <button class=\"colab-df-convert\" onclick=\"convertToInteractive('df-40fabbe5-2c2b-4d9c-bdcc-b9fbb8bd7f55')\"\n",
              "              title=\"Convert this dataframe to an interactive table.\"\n",
              "              style=\"display:none;\">\n",
              "        \n",
              "  <svg xmlns=\"http://www.w3.org/2000/svg\" height=\"24px\"viewBox=\"0 0 24 24\"\n",
              "       width=\"24px\">\n",
              "    <path d=\"M0 0h24v24H0V0z\" fill=\"none\"/>\n",
              "    <path d=\"M18.56 5.44l.94 2.06.94-2.06 2.06-.94-2.06-.94-.94-2.06-.94 2.06-2.06.94zm-11 1L8.5 8.5l.94-2.06 2.06-.94-2.06-.94L8.5 2.5l-.94 2.06-2.06.94zm10 10l.94 2.06.94-2.06 2.06-.94-2.06-.94-.94-2.06-.94 2.06-2.06.94z\"/><path d=\"M17.41 7.96l-1.37-1.37c-.4-.4-.92-.59-1.43-.59-.52 0-1.04.2-1.43.59L10.3 9.45l-7.72 7.72c-.78.78-.78 2.05 0 2.83L4 21.41c.39.39.9.59 1.41.59.51 0 1.02-.2 1.41-.59l7.78-7.78 2.81-2.81c.8-.78.8-2.07 0-2.86zM5.41 20L4 18.59l7.72-7.72 1.47 1.35L5.41 20z\"/>\n",
              "  </svg>\n",
              "      </button>\n",
              "      \n",
              "  <style>\n",
              "    .colab-df-container {\n",
              "      display:flex;\n",
              "      flex-wrap:wrap;\n",
              "      gap: 12px;\n",
              "    }\n",
              "\n",
              "    .colab-df-convert {\n",
              "      background-color: #E8F0FE;\n",
              "      border: none;\n",
              "      border-radius: 50%;\n",
              "      cursor: pointer;\n",
              "      display: none;\n",
              "      fill: #1967D2;\n",
              "      height: 32px;\n",
              "      padding: 0 0 0 0;\n",
              "      width: 32px;\n",
              "    }\n",
              "\n",
              "    .colab-df-convert:hover {\n",
              "      background-color: #E2EBFA;\n",
              "      box-shadow: 0px 1px 2px rgba(60, 64, 67, 0.3), 0px 1px 3px 1px rgba(60, 64, 67, 0.15);\n",
              "      fill: #174EA6;\n",
              "    }\n",
              "\n",
              "    [theme=dark] .colab-df-convert {\n",
              "      background-color: #3B4455;\n",
              "      fill: #D2E3FC;\n",
              "    }\n",
              "\n",
              "    [theme=dark] .colab-df-convert:hover {\n",
              "      background-color: #434B5C;\n",
              "      box-shadow: 0px 1px 3px 1px rgba(0, 0, 0, 0.15);\n",
              "      filter: drop-shadow(0px 1px 2px rgba(0, 0, 0, 0.3));\n",
              "      fill: #FFFFFF;\n",
              "    }\n",
              "  </style>\n",
              "\n",
              "      <script>\n",
              "        const buttonEl =\n",
              "          document.querySelector('#df-40fabbe5-2c2b-4d9c-bdcc-b9fbb8bd7f55 button.colab-df-convert');\n",
              "        buttonEl.style.display =\n",
              "          google.colab.kernel.accessAllowed ? 'block' : 'none';\n",
              "\n",
              "        async function convertToInteractive(key) {\n",
              "          const element = document.querySelector('#df-40fabbe5-2c2b-4d9c-bdcc-b9fbb8bd7f55');\n",
              "          const dataTable =\n",
              "            await google.colab.kernel.invokeFunction('convertToInteractive',\n",
              "                                                     [key], {});\n",
              "          if (!dataTable) return;\n",
              "\n",
              "          const docLinkHtml = 'Like what you see? Visit the ' +\n",
              "            '<a target=\"_blank\" href=https://colab.research.google.com/notebooks/data_table.ipynb>data table notebook</a>'\n",
              "            + ' to learn more about interactive tables.';\n",
              "          element.innerHTML = '';\n",
              "          dataTable['output_type'] = 'display_data';\n",
              "          await google.colab.output.renderOutput(dataTable, element);\n",
              "          const docLink = document.createElement('div');\n",
              "          docLink.innerHTML = docLinkHtml;\n",
              "          element.appendChild(docLink);\n",
              "        }\n",
              "      </script>\n",
              "    </div>\n",
              "  </div>\n",
              "  "
            ]
          },
          "metadata": {},
          "execution_count": 522
        }
      ]
    },
    {
      "cell_type": "code",
      "source": [
        "# Checking for duplicate data\n",
        "len(df['Ind_ID']) - len(df['Ind_ID'].unique())"
      ],
      "metadata": {
        "colab": {
          "base_uri": "https://localhost:8080/"
        },
        "id": "tdN9B3hBWOMr",
        "outputId": "4957ee56-0d20-4f7f-d4b9-12a7189b88cf"
      },
      "execution_count": null,
      "outputs": [
        {
          "output_type": "execute_result",
          "data": {
            "text/plain": [
              "0"
            ]
          },
          "metadata": {},
          "execution_count": 523
        }
      ]
    },
    {
      "cell_type": "code",
      "source": [
        "df['label'].value_counts() "
      ],
      "metadata": {
        "colab": {
          "base_uri": "https://localhost:8080/"
        },
        "id": "CAa3OwOtHKOc",
        "outputId": "c5c889ff-af08-44da-893b-6d79ac9d1b19"
      },
      "execution_count": null,
      "outputs": [
        {
          "output_type": "execute_result",
          "data": {
            "text/plain": [
              "0    1373\n",
              "1     175\n",
              "Name: label, dtype: int64"
            ]
          },
          "metadata": {},
          "execution_count": 524
        }
      ]
    },
    {
      "cell_type": "markdown",
      "source": [
        "We can see the data is highly imbalanced. We have 1373 records (0) for Approved and only 175 (1) for Rejected."
      ],
      "metadata": {
        "id": "GcEDwcwk8b-S"
      }
    },
    {
      "cell_type": "code",
      "source": [
        "df.isnull().sum() #counting the total null values in each column"
      ],
      "metadata": {
        "colab": {
          "base_uri": "https://localhost:8080/"
        },
        "id": "4wHHHx3yG3ks",
        "outputId": "2eb36d55-f891-4dbf-8210-eb34dab1ba1c"
      },
      "execution_count": null,
      "outputs": [
        {
          "output_type": "execute_result",
          "data": {
            "text/plain": [
              "Ind_ID               0\n",
              "GENDER               7\n",
              "Car_Owner            0\n",
              "Propert_Owner        0\n",
              "CHILDREN             0\n",
              "Annual_income       23\n",
              "Type_Income          0\n",
              "EDUCATION            0\n",
              "Marital_status       0\n",
              "Housing_type         0\n",
              "Birthday_count      22\n",
              "Employed_days        0\n",
              "Mobile_phone         0\n",
              "Work_Phone           0\n",
              "Phone                0\n",
              "EMAIL_ID             0\n",
              "Type_Occupation    488\n",
              "Family_Members       0\n",
              "label                0\n",
              "dtype: int64"
            ]
          },
          "metadata": {},
          "execution_count": 525
        }
      ]
    },
    {
      "cell_type": "markdown",
      "source": [
        "Null values will cause errors in our model. We need to handle them seperately before applying them in model."
      ],
      "metadata": {
        "id": "thbSBHyMNEaz"
      }
    },
    {
      "cell_type": "code",
      "source": [
        "# Checking Min , Max values from 'Birthday_count' column\n",
        "print('Min Birthday_count :', df['Birthday_count'].min(),'\\nMax Birthday_count :',df['Birthday_count'].max())"
      ],
      "metadata": {
        "colab": {
          "base_uri": "https://localhost:8080/"
        },
        "id": "mvXWtFceWiBv",
        "outputId": "2af9c6c3-af35-4fba-efbb-7dd09338d108"
      },
      "execution_count": null,
      "outputs": [
        {
          "output_type": "stream",
          "name": "stdout",
          "text": [
            "Min Birthday_count : -24946.0 \n",
            "Max Birthday_count : -7705.0\n"
          ]
        }
      ]
    },
    {
      "cell_type": "code",
      "source": [
        "# Converting 'Birthday_count' values from Day to Years\n",
        "df['Birthday_count'] = round(df['Birthday_count']/-365,0)\n",
        "df.rename(columns={'Birthday_count':'AGE_YEARS'}, inplace=True)"
      ],
      "metadata": {
        "id": "_Gat7IEaXL0_"
      },
      "execution_count": null,
      "outputs": []
    },
    {
      "cell_type": "code",
      "source": [
        "# As mentioned in document, if 'Employed_days' is positive no, it means person currently unemployed, hence replacing it with 0\n",
        "df['Employed_days'] = df['Employed_days'].apply(lambda x: 0 if x>0 else x)\n"
      ],
      "metadata": {
        "id": "87cIgUveYpkw"
      },
      "execution_count": null,
      "outputs": []
    },
    {
      "cell_type": "code",
      "source": [
        "# Converting 'Employed_days' values from Day to Years\n",
        "df['Employed_days'] = abs(round(df['Employed_days']/-365,0))\n",
        "df.rename(columns={'Employed_days':'YEARS_EMPLOYED'}, inplace=True)  "
      ],
      "metadata": {
        "id": "-mQzLlJ5Ysn4"
      },
      "execution_count": null,
      "outputs": []
    },
    {
      "cell_type": "code",
      "source": [],
      "metadata": {
        "id": "2Chy0mYgb2fA"
      },
      "execution_count": null,
      "outputs": []
    },
    {
      "cell_type": "markdown",
      "source": [
        "###Dropping features that are not useful"
      ],
      "metadata": {
        "id": "rjXIbHNFFXwg"
      }
    },
    {
      "cell_type": "code",
      "source": [
        "df['Mobile_phone'].value_counts()"
      ],
      "metadata": {
        "colab": {
          "base_uri": "https://localhost:8080/"
        },
        "id": "ywfSVqSoddEI",
        "outputId": "96fa0dd5-ba8d-413d-9a95-270f88c3525b"
      },
      "execution_count": null,
      "outputs": [
        {
          "output_type": "execute_result",
          "data": {
            "text/plain": [
              "1    1548\n",
              "Name: Mobile_phone, dtype: int64"
            ]
          },
          "metadata": {},
          "execution_count": 530
        }
      ]
    },
    {
      "cell_type": "code",
      "source": [
        "# As all the values in column are 1, hence dropping column\n",
        "df.drop('Mobile_phone', axis=1, inplace=True)"
      ],
      "metadata": {
        "id": "PO6M3Ep6djpI"
      },
      "execution_count": null,
      "outputs": []
    },
    {
      "cell_type": "code",
      "source": [
        "df['Phone'].value_counts()"
      ],
      "metadata": {
        "colab": {
          "base_uri": "https://localhost:8080/"
        },
        "id": "cmN74xg0drTx",
        "outputId": "83cc181b-ccb1-493c-fe90-a75fb7923b70"
      },
      "execution_count": null,
      "outputs": [
        {
          "output_type": "execute_result",
          "data": {
            "text/plain": [
              "0    1069\n",
              "1     479\n",
              "Name: Phone, dtype: int64"
            ]
          },
          "metadata": {},
          "execution_count": 532
        }
      ]
    },
    {
      "cell_type": "code",
      "source": [
        "# This column only contains 0 & 1 values for Phone no submitted, hence dropping column\n",
        "df.drop('Phone', axis=1, inplace=True)"
      ],
      "metadata": {
        "id": "T7-hCHgLowHL"
      },
      "execution_count": null,
      "outputs": []
    },
    {
      "cell_type": "code",
      "source": [
        "df['EMAIL_ID'].value_counts()"
      ],
      "metadata": {
        "colab": {
          "base_uri": "https://localhost:8080/"
        },
        "id": "DCyNAh_QeEqo",
        "outputId": "b38185b9-922d-4cde-9968-d54c509ebc60"
      },
      "execution_count": null,
      "outputs": [
        {
          "output_type": "execute_result",
          "data": {
            "text/plain": [
              "0    1405\n",
              "1     143\n",
              "Name: EMAIL_ID, dtype: int64"
            ]
          },
          "metadata": {},
          "execution_count": 534
        }
      ]
    },
    {
      "cell_type": "code",
      "source": [
        "# This column only contains 0 & 1 values for Email ID submitted, hence dropping column\n",
        "df.drop('EMAIL_ID', axis=1, inplace=True)"
      ],
      "metadata": {
        "id": "rq5OeJPoo_Kr"
      },
      "execution_count": null,
      "outputs": []
    },
    {
      "cell_type": "code",
      "source": [
        "df['Work_Phone'].value_counts()"
      ],
      "metadata": {
        "colab": {
          "base_uri": "https://localhost:8080/"
        },
        "id": "pvc3DY5Zp4nL",
        "outputId": "60ef0a89-7173-4fee-d995-ae17a4c8961a"
      },
      "execution_count": null,
      "outputs": [
        {
          "output_type": "execute_result",
          "data": {
            "text/plain": [
              "0    1226\n",
              "1     322\n",
              "Name: Work_Phone, dtype: int64"
            ]
          },
          "metadata": {},
          "execution_count": 536
        }
      ]
    },
    {
      "cell_type": "code",
      "source": [
        "# This column only contains 0 & 1 values for  Work Phone no submitted, hence dropping column\n",
        "df.drop('Work_Phone', axis=1, inplace=True)"
      ],
      "metadata": {
        "id": "U9YywnRJqYRG"
      },
      "execution_count": null,
      "outputs": []
    },
    {
      "cell_type": "code",
      "source": [],
      "metadata": {
        "id": "_ItL498HHfFr"
      },
      "execution_count": null,
      "outputs": []
    },
    {
      "cell_type": "markdown",
      "source": [
        "### Handling features containing NULL values"
      ],
      "metadata": {
        "id": "VoxlhUXgHgto"
      }
    },
    {
      "cell_type": "code",
      "source": [
        "#checking for null values in each column\n",
        "df.isnull().sum()"
      ],
      "metadata": {
        "colab": {
          "base_uri": "https://localhost:8080/"
        },
        "id": "w-dGVfVuXf70",
        "outputId": "f269746e-5f7a-4bbd-bb14-f26a63c02653"
      },
      "execution_count": null,
      "outputs": [
        {
          "output_type": "execute_result",
          "data": {
            "text/plain": [
              "Ind_ID               0\n",
              "GENDER               7\n",
              "Car_Owner            0\n",
              "Propert_Owner        0\n",
              "CHILDREN             0\n",
              "Annual_income       23\n",
              "Type_Income          0\n",
              "EDUCATION            0\n",
              "Marital_status       0\n",
              "Housing_type         0\n",
              "AGE_YEARS           22\n",
              "YEARS_EMPLOYED       0\n",
              "Type_Occupation    488\n",
              "Family_Members       0\n",
              "label                0\n",
              "dtype: int64"
            ]
          },
          "metadata": {},
          "execution_count": 538
        }
      ]
    },
    {
      "cell_type": "code",
      "source": [
        "# dropping occupation type which has many null values\n",
        "df.drop('Type_Occupation', axis=1, inplace=True)"
      ],
      "metadata": {
        "id": "-SV-Flg9S2Zf"
      },
      "execution_count": null,
      "outputs": []
    },
    {
      "cell_type": "code",
      "source": [
        "#Relacing missing values in GENDER column with mode\n",
        "df['GENDER']=df['GENDER'].fillna(df['GENDER'].mode()[0]) "
      ],
      "metadata": {
        "id": "8TkfQOCNgqf1"
      },
      "execution_count": null,
      "outputs": []
    },
    {
      "cell_type": "code",
      "source": [
        "#distribution of Annual_income for each income type\n",
        "\n",
        "figure,axis=plt.subplots(2,2)\n",
        "sns.histplot(x='Annual_income',data=df[df['Type_Income']=='Pensioner'],ax=axis[0,0]).set(title='Pensioners')\n",
        "sns.histplot(x='Annual_income',data=df[df['Type_Income']=='Working'],ax=axis[0,1]).set(title='Working')\n",
        "sns.histplot(x='Annual_income',data=df[df['Type_Income']=='Commercial associate'],ax=axis[1,0]).set(title='Commercial associate')\n",
        "sns.histplot(x='Annual_income',data=df[df['Type_Income']=='State servant'],ax=axis[1,1]).set(title='State servant')\n",
        "figure.set_size_inches(18,14)\n"
      ],
      "metadata": {
        "id": "L_luh_RvKPyS",
        "colab": {
          "base_uri": "https://localhost:8080/",
          "height": 840
        },
        "outputId": "bfa5d724-6e8c-46f4-8b89-7466522d58b2"
      },
      "execution_count": null,
      "outputs": [
        {
          "output_type": "display_data",
          "data": {
            "text/plain": [
              "<Figure size 1296x1008 with 4 Axes>"
            ],
            "image/png": "[encoded data removed]"
          },
          "metadata": {
            "needs_background": "light"
          }
        }
      ]
    },
    {
      "cell_type": "code",
      "source": [
        "#checking null annual income records for each income type\n",
        "\n",
        "df[df['Annual_income'].isnull()]['Type_Income'].value_counts()"
      ],
      "metadata": {
        "id": "YB4K2_b7DUAd",
        "colab": {
          "base_uri": "https://localhost:8080/"
        },
        "outputId": "60740aea-bd34-4cb6-b1e1-dfcf3a931b21"
      },
      "execution_count": null,
      "outputs": [
        {
          "output_type": "execute_result",
          "data": {
            "text/plain": [
              "Working                 11\n",
              "Commercial associate     8\n",
              "Pensioner                4\n",
              "Name: Type_Income, dtype: int64"
            ]
          },
          "metadata": {},
          "execution_count": 542
        }
      ]
    },
    {
      "cell_type": "markdown",
      "source": [
        "Calculating mean annual income for each income type"
      ],
      "metadata": {
        "id": "DwwNKIv1WdoL"
      }
    },
    {
      "cell_type": "code",
      "source": [
        "# Calculating mean annual income for seperate income type\n",
        "mean_pension=round(df[df['Type_Income']=='Pensioner']['Annual_income'].mean())\n",
        "mean_working=round(df[df['Type_Income']=='Working']['Annual_income'].mean())\n",
        "mean_commercial=round(df[df['Type_Income']=='Commercial associate']['Annual_income'].mean())"
      ],
      "metadata": {
        "id": "-pAn3qp0Jcle"
      },
      "execution_count": null,
      "outputs": []
    },
    {
      "cell_type": "code",
      "source": [
        "def impute_income(cols):\n",
        "    income = cols[0]\n",
        "    iclass = cols[1]\n",
        "    \n",
        "    if pd.isnull(income):\n",
        "\n",
        "        if  iclass== 'Pensioner':\n",
        "            return mean_pension\n",
        "\n",
        "        elif iclass == 'Working':\n",
        "            return mean_working\n",
        "\n",
        "        else:\n",
        "            return mean_commercial\n",
        "\n",
        "    else:\n",
        "        return income"
      ],
      "metadata": {
        "id": "AxPyhwmpeIEW"
      },
      "execution_count": null,
      "outputs": []
    },
    {
      "cell_type": "code",
      "source": [
        "#replacing null values of Annual_income with mean for each income type\n",
        "df['Annual_income'] = df[['Annual_income','Type_Income']].apply(impute_income,axis=1)"
      ],
      "metadata": {
        "id": "0Az5BOXxeJGd"
      },
      "execution_count": null,
      "outputs": []
    },
    {
      "cell_type": "code",
      "source": [
        "# Null values from annual income has been handled\n",
        "df.isnull().sum()"
      ],
      "metadata": {
        "id": "XdtVB7vZLbxD",
        "colab": {
          "base_uri": "https://localhost:8080/"
        },
        "outputId": "899ae513-119f-458d-f69d-cda6d28d75be"
      },
      "execution_count": null,
      "outputs": [
        {
          "output_type": "execute_result",
          "data": {
            "text/plain": [
              "Ind_ID             0\n",
              "GENDER             0\n",
              "Car_Owner          0\n",
              "Propert_Owner      0\n",
              "CHILDREN           0\n",
              "Annual_income      0\n",
              "Type_Income        0\n",
              "EDUCATION          0\n",
              "Marital_status     0\n",
              "Housing_type       0\n",
              "AGE_YEARS         22\n",
              "YEARS_EMPLOYED     0\n",
              "Family_Members     0\n",
              "label              0\n",
              "dtype: int64"
            ]
          },
          "metadata": {},
          "execution_count": 546
        }
      ]
    },
    {
      "cell_type": "code",
      "source": [
        "#distribution of Age for different income types \n",
        "\n",
        "figure,axis=plt.subplots(2,2)\n",
        "sns.histplot(x='AGE_YEARS',data=df[df['Type_Income']=='Pensioner'],ax=axis[0,0]).set(title='Pensioners')\n",
        "sns.histplot(x='AGE_YEARS',data=df[df['Type_Income']=='Working'],ax=axis[0,1]).set(title='Working')\n",
        "sns.histplot(x='AGE_YEARS',data=df[df['Type_Income']=='Commercial associate'],ax=axis[1,0]).set(title='Commercial associate')\n",
        "sns.histplot(x='AGE_YEARS',data=df[df['Type_Income']=='State servant'],ax=axis[1,1]).set(title='State servant')\n",
        "figure.set_size_inches(18,14)"
      ],
      "metadata": {
        "id": "EFJTaKO3oNr8",
        "colab": {
          "base_uri": "https://localhost:8080/",
          "height": 840
        },
        "outputId": "a37194f2-d062-4e9b-b36f-c3171ba08e5a"
      },
      "execution_count": null,
      "outputs": [
        {
          "output_type": "display_data",
          "data": {
            "text/plain": [
              "<Figure size 1296x1008 with 4 Axes>"
            ],
            "image/png": "[encoded data removed]"
          },
          "metadata": {
            "needs_background": "light"
          }
        }
      ]
    },
    {
      "cell_type": "code",
      "source": [
        "# Calculating mean age for seperate income type\n",
        "\n",
        "birth_working=round(df[df['Type_Income']=='Working']['AGE_YEARS'].mean())\n",
        "\n",
        "birth_pension=round(df[df['Type_Income']=='Pensioner']['AGE_YEARS'].mean())\n",
        "\n",
        "birth_commercial=round(df[df['Type_Income']=='Commercial associate']['AGE_YEARS'].mean())"
      ],
      "metadata": {
        "id": "Rbe9D4LVMbul"
      },
      "execution_count": null,
      "outputs": []
    },
    {
      "cell_type": "code",
      "source": [
        "def impute_birth(cols):\n",
        "    birth = cols[0]\n",
        "    iclass = cols[1]\n",
        "    \n",
        "    if pd.isnull(birth):\n",
        "\n",
        "        if  iclass== 'Pensioner':\n",
        "            return birth_pension\n",
        "\n",
        "        elif iclass == 'Working':\n",
        "            return birth_working\n",
        "\n",
        "        else:\n",
        "            return birth_commercial\n",
        "\n",
        "    else:\n",
        "        return birth"
      ],
      "metadata": {
        "id": "yOjGp3XiNBiv"
      },
      "execution_count": null,
      "outputs": []
    },
    {
      "cell_type": "code",
      "source": [
        "df['AGE_YEARS'] = df[['AGE_YEARS','Type_Income']].apply(impute_birth,axis=1)"
      ],
      "metadata": {
        "id": "eTuLUaM5NBiv"
      },
      "execution_count": null,
      "outputs": []
    },
    {
      "cell_type": "code",
      "source": [
        "# All null values have been handled\n",
        "df.isnull().sum()"
      ],
      "metadata": {
        "colab": {
          "base_uri": "https://localhost:8080/"
        },
        "id": "TJwpuL4yNGpt",
        "outputId": "42103c7c-4b23-46e7-ac55-468cd40b0d3e"
      },
      "execution_count": null,
      "outputs": [
        {
          "output_type": "execute_result",
          "data": {
            "text/plain": [
              "Ind_ID            0\n",
              "GENDER            0\n",
              "Car_Owner         0\n",
              "Propert_Owner     0\n",
              "CHILDREN          0\n",
              "Annual_income     0\n",
              "Type_Income       0\n",
              "EDUCATION         0\n",
              "Marital_status    0\n",
              "Housing_type      0\n",
              "AGE_YEARS         0\n",
              "YEARS_EMPLOYED    0\n",
              "Family_Members    0\n",
              "label             0\n",
              "dtype: int64"
            ]
          },
          "metadata": {},
          "execution_count": 551
        }
      ]
    },
    {
      "cell_type": "code",
      "source": [
        "df.head(5)"
      ],
      "metadata": {
        "id": "Ni2Mvyp9N0pN",
        "colab": {
          "base_uri": "https://localhost:8080/",
          "height": 357
        },
        "outputId": "c1259ae6-bb80-42f6-b9a7-7f9911bbc649"
      },
      "execution_count": null,
      "outputs": [
        {
          "output_type": "execute_result",
          "data": {
            "text/plain": [
              "    Ind_ID GENDER Car_Owner Propert_Owner  CHILDREN  Annual_income  \\\n",
              "0  5008827      M         Y             Y         0       180000.0   \n",
              "1  5009744      F         Y             N         0       315000.0   \n",
              "2  5009746      F         Y             N         0       315000.0   \n",
              "3  5009749      F         Y             N         0       234600.0   \n",
              "4  5009752      F         Y             N         0       315000.0   \n",
              "\n",
              "            Type_Income         EDUCATION Marital_status       Housing_type  \\\n",
              "0             Pensioner  Higher education        Married  House / apartment   \n",
              "1  Commercial associate  Higher education        Married  House / apartment   \n",
              "2  Commercial associate  Higher education        Married  House / apartment   \n",
              "3  Commercial associate  Higher education        Married  House / apartment   \n",
              "4  Commercial associate  Higher education        Married  House / apartment   \n",
              "\n",
              "   AGE_YEARS  YEARS_EMPLOYED  Family_Members  label  \n",
              "0       51.0             0.0               2      1  \n",
              "1       37.0             2.0               2      1  \n",
              "2       40.0             2.0               2      1  \n",
              "3       37.0             2.0               2      1  \n",
              "4       37.0             2.0               2      1  "
            ],
            "text/html": [
              "\n",
              "  <div id=\"df-c19ce562-4c6f-49b2-861f-8c9995cde217\">\n",
              "    <div class=\"colab-df-container\">\n",
              "      <div>\n",
              "<style scoped>\n",
              "    .dataframe tbody tr th:only-of-type {\n",
              "        vertical-align: middle;\n",
              "    }\n",
              "\n",
              "    .dataframe tbody tr th {\n",
              "        vertical-align: top;\n",
              "    }\n",
              "\n",
              "    .dataframe thead th {\n",
              "        text-align: right;\n",
              "    }\n",
              "</style>\n",
              "<table border=\"1\" class=\"dataframe\">\n",
              "  <thead>\n",
              "    <tr style=\"text-align: right;\">\n",
              "      <th></th>\n",
              "      <th>Ind_ID</th>\n",
              "      <th>GENDER</th>\n",
              "      <th>Car_Owner</th>\n",
              "      <th>Propert_Owner</th>\n",
              "      <th>CHILDREN</th>\n",
              "      <th>Annual_income</th>\n",
              "      <th>Type_Income</th>\n",
              "      <th>EDUCATION</th>\n",
              "      <th>Marital_status</th>\n",
              "      <th>Housing_type</th>\n",
              "      <th>AGE_YEARS</th>\n",
              "      <th>YEARS_EMPLOYED</th>\n",
              "      <th>Family_Members</th>\n",
              "      <th>label</th>\n",
              "    </tr>\n",
              "  </thead>\n",
              "  <tbody>\n",
              "    <tr>\n",
              "      <th>0</th>\n",
              "      <td>5008827</td>\n",
              "      <td>M</td>\n",
              "      <td>Y</td>\n",
              "      <td>Y</td>\n",
              "      <td>0</td>\n",
              "      <td>180000.0</td>\n",
              "      <td>Pensioner</td>\n",
              "      <td>Higher education</td>\n",
              "      <td>Married</td>\n",
              "      <td>House / apartment</td>\n",
              "      <td>51.0</td>\n",
              "      <td>0.0</td>\n",
              "      <td>2</td>\n",
              "      <td>1</td>\n",
              "    </tr>\n",
              "    <tr>\n",
              "      <th>1</th>\n",
              "      <td>5009744</td>\n",
              "      <td>F</td>\n",
              "      <td>Y</td>\n",
              "      <td>N</td>\n",
              "      <td>0</td>\n",
              "      <td>315000.0</td>\n",
              "      <td>Commercial associate</td>\n",
              "      <td>Higher education</td>\n",
              "      <td>Married</td>\n",
              "      <td>House / apartment</td>\n",
              "      <td>37.0</td>\n",
              "      <td>2.0</td>\n",
              "      <td>2</td>\n",
              "      <td>1</td>\n",
              "    </tr>\n",
              "    <tr>\n",
              "      <th>2</th>\n",
              "      <td>5009746</td>\n",
              "      <td>F</td>\n",
              "      <td>Y</td>\n",
              "      <td>N</td>\n",
              "      <td>0</td>\n",
              "      <td>315000.0</td>\n",
              "      <td>Commercial associate</td>\n",
              "      <td>Higher education</td>\n",
              "      <td>Married</td>\n",
              "      <td>House / apartment</td>\n",
              "      <td>40.0</td>\n",
              "      <td>2.0</td>\n",
              "      <td>2</td>\n",
              "      <td>1</td>\n",
              "    </tr>\n",
              "    <tr>\n",
              "      <th>3</th>\n",
              "      <td>5009749</td>\n",
              "      <td>F</td>\n",
              "      <td>Y</td>\n",
              "      <td>N</td>\n",
              "      <td>0</td>\n",
              "      <td>234600.0</td>\n",
              "      <td>Commercial associate</td>\n",
              "      <td>Higher education</td>\n",
              "      <td>Married</td>\n",
              "      <td>House / apartment</td>\n",
              "      <td>37.0</td>\n",
              "      <td>2.0</td>\n",
              "      <td>2</td>\n",
              "      <td>1</td>\n",
              "    </tr>\n",
              "    <tr>\n",
              "      <th>4</th>\n",
              "      <td>5009752</td>\n",
              "      <td>F</td>\n",
              "      <td>Y</td>\n",
              "      <td>N</td>\n",
              "      <td>0</td>\n",
              "      <td>315000.0</td>\n",
              "      <td>Commercial associate</td>\n",
              "      <td>Higher education</td>\n",
              "      <td>Married</td>\n",
              "      <td>House / apartment</td>\n",
              "      <td>37.0</td>\n",
              "      <td>2.0</td>\n",
              "      <td>2</td>\n",
              "      <td>1</td>\n",
              "    </tr>\n",
              "  </tbody>\n",
              "</table>\n",
              "</div>\n",
              "      <button class=\"colab-df-convert\" onclick=\"convertToInteractive('df-c19ce562-4c6f-49b2-861f-8c9995cde217')\"\n",
              "              title=\"Convert this dataframe to an interactive table.\"\n",
              "              style=\"display:none;\">\n",
              "        \n",
              "  <svg xmlns=\"http://www.w3.org/2000/svg\" height=\"24px\"viewBox=\"0 0 24 24\"\n",
              "       width=\"24px\">\n",
              "    <path d=\"M0 0h24v24H0V0z\" fill=\"none\"/>\n",
              "    <path d=\"M18.56 5.44l.94 2.06.94-2.06 2.06-.94-2.06-.94-.94-2.06-.94 2.06-2.06.94zm-11 1L8.5 8.5l.94-2.06 2.06-.94-2.06-.94L8.5 2.5l-.94 2.06-2.06.94zm10 10l.94 2.06.94-2.06 2.06-.94-2.06-.94-.94-2.06-.94 2.06-2.06.94z\"/><path d=\"M17.41 7.96l-1.37-1.37c-.4-.4-.92-.59-1.43-.59-.52 0-1.04.2-1.43.59L10.3 9.45l-7.72 7.72c-.78.78-.78 2.05 0 2.83L4 21.41c.39.39.9.59 1.41.59.51 0 1.02-.2 1.41-.59l7.78-7.78 2.81-2.81c.8-.78.8-2.07 0-2.86zM5.41 20L4 18.59l7.72-7.72 1.47 1.35L5.41 20z\"/>\n",
              "  </svg>\n",
              "      </button>\n",
              "      \n",
              "  <style>\n",
              "    .colab-df-container {\n",
              "      display:flex;\n",
              "      flex-wrap:wrap;\n",
              "      gap: 12px;\n",
              "    }\n",
              "\n",
              "    .colab-df-convert {\n",
              "      background-color: #E8F0FE;\n",
              "      border: none;\n",
              "      border-radius: 50%;\n",
              "      cursor: pointer;\n",
              "      display: none;\n",
              "      fill: #1967D2;\n",
              "      height: 32px;\n",
              "      padding: 0 0 0 0;\n",
              "      width: 32px;\n",
              "    }\n",
              "\n",
              "    .colab-df-convert:hover {\n",
              "      background-color: #E2EBFA;\n",
              "      box-shadow: 0px 1px 2px rgba(60, 64, 67, 0.3), 0px 1px 3px 1px rgba(60, 64, 67, 0.15);\n",
              "      fill: #174EA6;\n",
              "    }\n",
              "\n",
              "    [theme=dark] .colab-df-convert {\n",
              "      background-color: #3B4455;\n",
              "      fill: #D2E3FC;\n",
              "    }\n",
              "\n",
              "    [theme=dark] .colab-df-convert:hover {\n",
              "      background-color: #434B5C;\n",
              "      box-shadow: 0px 1px 3px 1px rgba(0, 0, 0, 0.15);\n",
              "      filter: drop-shadow(0px 1px 2px rgba(0, 0, 0, 0.3));\n",
              "      fill: #FFFFFF;\n",
              "    }\n",
              "  </style>\n",
              "\n",
              "      <script>\n",
              "        const buttonEl =\n",
              "          document.querySelector('#df-c19ce562-4c6f-49b2-861f-8c9995cde217 button.colab-df-convert');\n",
              "        buttonEl.style.display =\n",
              "          google.colab.kernel.accessAllowed ? 'block' : 'none';\n",
              "\n",
              "        async function convertToInteractive(key) {\n",
              "          const element = document.querySelector('#df-c19ce562-4c6f-49b2-861f-8c9995cde217');\n",
              "          const dataTable =\n",
              "            await google.colab.kernel.invokeFunction('convertToInteractive',\n",
              "                                                     [key], {});\n",
              "          if (!dataTable) return;\n",
              "\n",
              "          const docLinkHtml = 'Like what you see? Visit the ' +\n",
              "            '<a target=\"_blank\" href=https://colab.research.google.com/notebooks/data_table.ipynb>data table notebook</a>'\n",
              "            + ' to learn more about interactive tables.';\n",
              "          element.innerHTML = '';\n",
              "          dataTable['output_type'] = 'display_data';\n",
              "          await google.colab.output.renderOutput(dataTable, element);\n",
              "          const docLink = document.createElement('div');\n",
              "          docLink.innerHTML = docLinkHtml;\n",
              "          element.appendChild(docLink);\n",
              "        }\n",
              "      </script>\n",
              "    </div>\n",
              "  </div>\n",
              "  "
            ]
          },
          "metadata": {},
          "execution_count": 552
        }
      ]
    },
    {
      "cell_type": "code",
      "source": [
        "df['CHILDREN'].value_counts()"
      ],
      "metadata": {
        "id": "Dsb_NYAOgFSl",
        "colab": {
          "base_uri": "https://localhost:8080/"
        },
        "outputId": "f139e0ab-2af9-4d53-cccb-e36fb49dfdea"
      },
      "execution_count": null,
      "outputs": [
        {
          "output_type": "execute_result",
          "data": {
            "text/plain": [
              "0     1091\n",
              "1      305\n",
              "2      134\n",
              "3       16\n",
              "4        1\n",
              "14       1\n",
              "Name: CHILDREN, dtype: int64"
            ]
          },
          "metadata": {},
          "execution_count": 553
        }
      ]
    },
    {
      "cell_type": "markdown",
      "source": [
        "###Checking for Outliers"
      ],
      "metadata": {
        "id": "fHo7UW96DVw-"
      }
    },
    {
      "cell_type": "code",
      "source": [
        "sns.boxplot(x='Annual_income',data=df)"
      ],
      "metadata": {
        "colab": {
          "base_uri": "https://localhost:8080/",
          "height": 298
        },
        "id": "F4C_yti4CrgQ",
        "outputId": "548f8b57-271f-48f1-b1a1-417ae0987b0d"
      },
      "execution_count": null,
      "outputs": [
        {
          "output_type": "execute_result",
          "data": {
            "text/plain": [
              "<AxesSubplot:xlabel='Annual_income'>"
            ]
          },
          "metadata": {},
          "execution_count": 554
        },
        {
          "output_type": "display_data",
          "data": {
            "text/plain": [
              "<Figure size 432x288 with 1 Axes>"
            ],
            "image/png": "[encoded data removed]"
          },
          "metadata": {
            "needs_background": "light"
          }
        }
      ]
    },
    {
      "cell_type": "code",
      "source": [
        "# removing outliers from Annual_income\n",
        "high_bound = df['Annual_income'].quantile(0.999)\n",
        "print('high_bound :', high_bound)"
      ],
      "metadata": {
        "colab": {
          "base_uri": "https://localhost:8080/"
        },
        "outputId": "aa609d82-ff1d-40d0-f240-453891fdf0fa",
        "id": "35B7D8AuDVw_"
      },
      "execution_count": null,
      "outputs": [
        {
          "output_type": "stream",
          "name": "stdout",
          "text": [
            "high_bound : 1205775.0000001362\n"
          ]
        }
      ]
    },
    {
      "cell_type": "code",
      "source": [
        "df=df[df['Annual_income']<=high_bound]"
      ],
      "metadata": {
        "id": "C-Y-qOykDVw_"
      },
      "execution_count": null,
      "outputs": []
    },
    {
      "cell_type": "code",
      "source": [
        "# Most of the data lies between 0 to 3 children per application\n",
        "sns.countplot(x='CHILDREN',data=users)"
      ],
      "metadata": {
        "colab": {
          "base_uri": "https://localhost:8080/",
          "height": 297
        },
        "id": "TWX5iPoEE7c6",
        "outputId": "a128a3e0-fe58-49ee-a923-face842ef311"
      },
      "execution_count": null,
      "outputs": [
        {
          "output_type": "execute_result",
          "data": {
            "text/plain": [
              "<AxesSubplot:xlabel='CHILDREN', ylabel='count'>"
            ]
          },
          "metadata": {},
          "execution_count": 557
        },
        {
          "output_type": "display_data",
          "data": {
            "text/plain": [
              "<Figure size 432x288 with 1 Axes>"
            ],
            "image/png": "[encoded data removed]"
          },
          "metadata": {
            "needs_background": "light"
          }
        }
      ]
    },
    {
      "cell_type": "code",
      "source": [
        "#removing outliers from CHILDREN\n",
        "high_bound = df['CHILDREN'].quantile(0.999)\n",
        "print('high_bound :', high_bound)"
      ],
      "metadata": {
        "colab": {
          "base_uri": "https://localhost:8080/"
        },
        "outputId": "0399ad40-41ff-4d56-dd5e-eec869754f4f",
        "id": "3b2uVXD8DVw-"
      },
      "execution_count": null,
      "outputs": [
        {
          "output_type": "stream",
          "name": "stdout",
          "text": [
            "high_bound : 3.4550000000001546\n"
          ]
        }
      ]
    },
    {
      "cell_type": "code",
      "source": [
        "df = df[df['CHILDREN']<=high_bound]"
      ],
      "metadata": {
        "id": "CH2Ys9X5DVw-"
      },
      "execution_count": null,
      "outputs": []
    },
    {
      "cell_type": "code",
      "source": [
        "df.shape #shape of data after removing outliers"
      ],
      "metadata": {
        "colab": {
          "base_uri": "https://localhost:8080/"
        },
        "outputId": "57f3a9ec-2560-458f-cd19-4ba313c825eb",
        "id": "ueNo7BNTDVw-"
      },
      "execution_count": null,
      "outputs": [
        {
          "output_type": "execute_result",
          "data": {
            "text/plain": [
              "(1544, 14)"
            ]
          },
          "metadata": {},
          "execution_count": 560
        }
      ]
    },
    {
      "cell_type": "code",
      "source": [
        "df.head(5)"
      ],
      "metadata": {
        "colab": {
          "base_uri": "https://localhost:8080/",
          "height": 357
        },
        "id": "m_D4sUVtY-cG",
        "outputId": "8b21a7a9-80cc-4e0f-a9e7-691036dd31e0"
      },
      "execution_count": null,
      "outputs": [
        {
          "output_type": "execute_result",
          "data": {
            "text/plain": [
              "    Ind_ID GENDER Car_Owner Propert_Owner  CHILDREN  Annual_income  \\\n",
              "0  5008827      M         Y             Y         0       180000.0   \n",
              "1  5009744      F         Y             N         0       315000.0   \n",
              "2  5009746      F         Y             N         0       315000.0   \n",
              "3  5009749      F         Y             N         0       234600.0   \n",
              "4  5009752      F         Y             N         0       315000.0   \n",
              "\n",
              "            Type_Income         EDUCATION Marital_status       Housing_type  \\\n",
              "0             Pensioner  Higher education        Married  House / apartment   \n",
              "1  Commercial associate  Higher education        Married  House / apartment   \n",
              "2  Commercial associate  Higher education        Married  House / apartment   \n",
              "3  Commercial associate  Higher education        Married  House / apartment   \n",
              "4  Commercial associate  Higher education        Married  House / apartment   \n",
              "\n",
              "   AGE_YEARS  YEARS_EMPLOYED  Family_Members  label  \n",
              "0       51.0             0.0               2      1  \n",
              "1       37.0             2.0               2      1  \n",
              "2       40.0             2.0               2      1  \n",
              "3       37.0             2.0               2      1  \n",
              "4       37.0             2.0               2      1  "
            ],
            "text/html": [
              "\n",
              "  <div id=\"df-34017ed6-f146-4d9d-aef4-2828f7274751\">\n",
              "    <div class=\"colab-df-container\">\n",
              "      <div>\n",
              "<style scoped>\n",
              "    .dataframe tbody tr th:only-of-type {\n",
              "        vertical-align: middle;\n",
              "    }\n",
              "\n",
              "    .dataframe tbody tr th {\n",
              "        vertical-align: top;\n",
              "    }\n",
              "\n",
              "    .dataframe thead th {\n",
              "        text-align: right;\n",
              "    }\n",
              "</style>\n",
              "<table border=\"1\" class=\"dataframe\">\n",
              "  <thead>\n",
              "    <tr style=\"text-align: right;\">\n",
              "      <th></th>\n",
              "      <th>Ind_ID</th>\n",
              "      <th>GENDER</th>\n",
              "      <th>Car_Owner</th>\n",
              "      <th>Propert_Owner</th>\n",
              "      <th>CHILDREN</th>\n",
              "      <th>Annual_income</th>\n",
              "      <th>Type_Income</th>\n",
              "      <th>EDUCATION</th>\n",
              "      <th>Marital_status</th>\n",
              "      <th>Housing_type</th>\n",
              "      <th>AGE_YEARS</th>\n",
              "      <th>YEARS_EMPLOYED</th>\n",
              "      <th>Family_Members</th>\n",
              "      <th>label</th>\n",
              "    </tr>\n",
              "  </thead>\n",
              "  <tbody>\n",
              "    <tr>\n",
              "      <th>0</th>\n",
              "      <td>5008827</td>\n",
              "      <td>M</td>\n",
              "      <td>Y</td>\n",
              "      <td>Y</td>\n",
              "      <td>0</td>\n",
              "      <td>180000.0</td>\n",
              "      <td>Pensioner</td>\n",
              "      <td>Higher education</td>\n",
              "      <td>Married</td>\n",
              "      <td>House / apartment</td>\n",
              "      <td>51.0</td>\n",
              "      <td>0.0</td>\n",
              "      <td>2</td>\n",
              "      <td>1</td>\n",
              "    </tr>\n",
              "    <tr>\n",
              "      <th>1</th>\n",
              "      <td>5009744</td>\n",
              "      <td>F</td>\n",
              "      <td>Y</td>\n",
              "      <td>N</td>\n",
              "      <td>0</td>\n",
              "      <td>315000.0</td>\n",
              "      <td>Commercial associate</td>\n",
              "      <td>Higher education</td>\n",
              "      <td>Married</td>\n",
              "      <td>House / apartment</td>\n",
              "      <td>37.0</td>\n",
              "      <td>2.0</td>\n",
              "      <td>2</td>\n",
              "      <td>1</td>\n",
              "    </tr>\n",
              "    <tr>\n",
              "      <th>2</th>\n",
              "      <td>5009746</td>\n",
              "      <td>F</td>\n",
              "      <td>Y</td>\n",
              "      <td>N</td>\n",
              "      <td>0</td>\n",
              "      <td>315000.0</td>\n",
              "      <td>Commercial associate</td>\n",
              "      <td>Higher education</td>\n",
              "      <td>Married</td>\n",
              "      <td>House / apartment</td>\n",
              "      <td>40.0</td>\n",
              "      <td>2.0</td>\n",
              "      <td>2</td>\n",
              "      <td>1</td>\n",
              "    </tr>\n",
              "    <tr>\n",
              "      <th>3</th>\n",
              "      <td>5009749</td>\n",
              "      <td>F</td>\n",
              "      <td>Y</td>\n",
              "      <td>N</td>\n",
              "      <td>0</td>\n",
              "      <td>234600.0</td>\n",
              "      <td>Commercial associate</td>\n",
              "      <td>Higher education</td>\n",
              "      <td>Married</td>\n",
              "      <td>House / apartment</td>\n",
              "      <td>37.0</td>\n",
              "      <td>2.0</td>\n",
              "      <td>2</td>\n",
              "      <td>1</td>\n",
              "    </tr>\n",
              "    <tr>\n",
              "      <th>4</th>\n",
              "      <td>5009752</td>\n",
              "      <td>F</td>\n",
              "      <td>Y</td>\n",
              "      <td>N</td>\n",
              "      <td>0</td>\n",
              "      <td>315000.0</td>\n",
              "      <td>Commercial associate</td>\n",
              "      <td>Higher education</td>\n",
              "      <td>Married</td>\n",
              "      <td>House / apartment</td>\n",
              "      <td>37.0</td>\n",
              "      <td>2.0</td>\n",
              "      <td>2</td>\n",
              "      <td>1</td>\n",
              "    </tr>\n",
              "  </tbody>\n",
              "</table>\n",
              "</div>\n",
              "      <button class=\"colab-df-convert\" onclick=\"convertToInteractive('df-34017ed6-f146-4d9d-aef4-2828f7274751')\"\n",
              "              title=\"Convert this dataframe to an interactive table.\"\n",
              "              style=\"display:none;\">\n",
              "        \n",
              "  <svg xmlns=\"http://www.w3.org/2000/svg\" height=\"24px\"viewBox=\"0 0 24 24\"\n",
              "       width=\"24px\">\n",
              "    <path d=\"M0 0h24v24H0V0z\" fill=\"none\"/>\n",
              "    <path d=\"M18.56 5.44l.94 2.06.94-2.06 2.06-.94-2.06-.94-.94-2.06-.94 2.06-2.06.94zm-11 1L8.5 8.5l.94-2.06 2.06-.94-2.06-.94L8.5 2.5l-.94 2.06-2.06.94zm10 10l.94 2.06.94-2.06 2.06-.94-2.06-.94-.94-2.06-.94 2.06-2.06.94z\"/><path d=\"M17.41 7.96l-1.37-1.37c-.4-.4-.92-.59-1.43-.59-.52 0-1.04.2-1.43.59L10.3 9.45l-7.72 7.72c-.78.78-.78 2.05 0 2.83L4 21.41c.39.39.9.59 1.41.59.51 0 1.02-.2 1.41-.59l7.78-7.78 2.81-2.81c.8-.78.8-2.07 0-2.86zM5.41 20L4 18.59l7.72-7.72 1.47 1.35L5.41 20z\"/>\n",
              "  </svg>\n",
              "      </button>\n",
              "      \n",
              "  <style>\n",
              "    .colab-df-container {\n",
              "      display:flex;\n",
              "      flex-wrap:wrap;\n",
              "      gap: 12px;\n",
              "    }\n",
              "\n",
              "    .colab-df-convert {\n",
              "      background-color: #E8F0FE;\n",
              "      border: none;\n",
              "      border-radius: 50%;\n",
              "      cursor: pointer;\n",
              "      display: none;\n",
              "      fill: #1967D2;\n",
              "      height: 32px;\n",
              "      padding: 0 0 0 0;\n",
              "      width: 32px;\n",
              "    }\n",
              "\n",
              "    .colab-df-convert:hover {\n",
              "      background-color: #E2EBFA;\n",
              "      box-shadow: 0px 1px 2px rgba(60, 64, 67, 0.3), 0px 1px 3px 1px rgba(60, 64, 67, 0.15);\n",
              "      fill: #174EA6;\n",
              "    }\n",
              "\n",
              "    [theme=dark] .colab-df-convert {\n",
              "      background-color: #3B4455;\n",
              "      fill: #D2E3FC;\n",
              "    }\n",
              "\n",
              "    [theme=dark] .colab-df-convert:hover {\n",
              "      background-color: #434B5C;\n",
              "      box-shadow: 0px 1px 3px 1px rgba(0, 0, 0, 0.15);\n",
              "      filter: drop-shadow(0px 1px 2px rgba(0, 0, 0, 0.3));\n",
              "      fill: #FFFFFF;\n",
              "    }\n",
              "  </style>\n",
              "\n",
              "      <script>\n",
              "        const buttonEl =\n",
              "          document.querySelector('#df-34017ed6-f146-4d9d-aef4-2828f7274751 button.colab-df-convert');\n",
              "        buttonEl.style.display =\n",
              "          google.colab.kernel.accessAllowed ? 'block' : 'none';\n",
              "\n",
              "        async function convertToInteractive(key) {\n",
              "          const element = document.querySelector('#df-34017ed6-f146-4d9d-aef4-2828f7274751');\n",
              "          const dataTable =\n",
              "            await google.colab.kernel.invokeFunction('convertToInteractive',\n",
              "                                                     [key], {});\n",
              "          if (!dataTable) return;\n",
              "\n",
              "          const docLinkHtml = 'Like what you see? Visit the ' +\n",
              "            '<a target=\"_blank\" href=https://colab.research.google.com/notebooks/data_table.ipynb>data table notebook</a>'\n",
              "            + ' to learn more about interactive tables.';\n",
              "          element.innerHTML = '';\n",
              "          dataTable['output_type'] = 'display_data';\n",
              "          await google.colab.output.renderOutput(dataTable, element);\n",
              "          const docLink = document.createElement('div');\n",
              "          docLink.innerHTML = docLinkHtml;\n",
              "          element.appendChild(docLink);\n",
              "        }\n",
              "      </script>\n",
              "    </div>\n",
              "  </div>\n",
              "  "
            ]
          },
          "metadata": {},
          "execution_count": 561
        }
      ]
    },
    {
      "cell_type": "code",
      "source": [
        "# using this cleaned data for answering SQL questions \n",
        "df.to_csv('Credit_clean.csv',header=True,index=False)"
      ],
      "metadata": {
        "id": "iktu6DEeYbNG"
      },
      "execution_count": null,
      "outputs": []
    },
    {
      "cell_type": "code",
      "source": [
        "# dropping 'ID' column as it is having only unique values (not required for ML Model)\n",
        "df.drop('Ind_ID', axis=1, inplace=True)"
      ],
      "metadata": {
        "id": "_PFfVBDBDVxA",
        "colab": {
          "base_uri": "https://localhost:8080/"
        },
        "outputId": "09e94221-96ea-4c9c-824c-0b42c5807e7b"
      },
      "execution_count": null,
      "outputs": [
        {
          "output_type": "stream",
          "name": "stderr",
          "text": [
            "<ipython-input-563-72d4cca4370e>:2: SettingWithCopyWarning: \n",
            "A value is trying to be set on a copy of a slice from a DataFrame\n",
            "\n",
            "See the caveats in the documentation: https://pandas.pydata.org/pandas-docs/stable/user_guide/indexing.html#returning-a-view-versus-a-copy\n",
            "  df.drop('Ind_ID', axis=1, inplace=True)\n"
          ]
        }
      ]
    },
    {
      "cell_type": "code",
      "source": [],
      "metadata": {
        "id": "8Tf4Zw3nchtC"
      },
      "execution_count": null,
      "outputs": []
    },
    {
      "cell_type": "markdown",
      "source": [
        "###Visualization"
      ],
      "metadata": {
        "id": "lY8spwlhl85T"
      }
    },
    {
      "cell_type": "code",
      "source": [
        "df.head(5)"
      ],
      "metadata": {
        "colab": {
          "base_uri": "https://localhost:8080/",
          "height": 337
        },
        "id": "Nl-AokJZnIHH",
        "outputId": "9b9b797e-e3b5-43ad-a0d8-b23f865fbf6a"
      },
      "execution_count": null,
      "outputs": [
        {
          "output_type": "execute_result",
          "data": {
            "text/plain": [
              "  GENDER Car_Owner Propert_Owner  CHILDREN  Annual_income  \\\n",
              "0      M         Y             Y         0       180000.0   \n",
              "1      F         Y             N         0       315000.0   \n",
              "2      F         Y             N         0       315000.0   \n",
              "3      F         Y             N         0       234600.0   \n",
              "4      F         Y             N         0       315000.0   \n",
              "\n",
              "            Type_Income         EDUCATION Marital_status       Housing_type  \\\n",
              "0             Pensioner  Higher education        Married  House / apartment   \n",
              "1  Commercial associate  Higher education        Married  House / apartment   \n",
              "2  Commercial associate  Higher education        Married  House / apartment   \n",
              "3  Commercial associate  Higher education        Married  House / apartment   \n",
              "4  Commercial associate  Higher education        Married  House / apartment   \n",
              "\n",
              "   AGE_YEARS  YEARS_EMPLOYED  Family_Members  label  \n",
              "0       51.0             0.0               2      1  \n",
              "1       37.0             2.0               2      1  \n",
              "2       40.0             2.0               2      1  \n",
              "3       37.0             2.0               2      1  \n",
              "4       37.0             2.0               2      1  "
            ],
            "text/html": [
              "\n",
              "  <div id=\"df-dcc39d67-c940-4c70-b456-1ca4f0c6c4b9\">\n",
              "    <div class=\"colab-df-container\">\n",
              "      <div>\n",
              "<style scoped>\n",
              "    .dataframe tbody tr th:only-of-type {\n",
              "        vertical-align: middle;\n",
              "    }\n",
              "\n",
              "    .dataframe tbody tr th {\n",
              "        vertical-align: top;\n",
              "    }\n",
              "\n",
              "    .dataframe thead th {\n",
              "        text-align: right;\n",
              "    }\n",
              "</style>\n",
              "<table border=\"1\" class=\"dataframe\">\n",
              "  <thead>\n",
              "    <tr style=\"text-align: right;\">\n",
              "      <th></th>\n",
              "      <th>GENDER</th>\n",
              "      <th>Car_Owner</th>\n",
              "      <th>Propert_Owner</th>\n",
              "      <th>CHILDREN</th>\n",
              "      <th>Annual_income</th>\n",
              "      <th>Type_Income</th>\n",
              "      <th>EDUCATION</th>\n",
              "      <th>Marital_status</th>\n",
              "      <th>Housing_type</th>\n",
              "      <th>AGE_YEARS</th>\n",
              "      <th>YEARS_EMPLOYED</th>\n",
              "      <th>Family_Members</th>\n",
              "      <th>label</th>\n",
              "    </tr>\n",
              "  </thead>\n",
              "  <tbody>\n",
              "    <tr>\n",
              "      <th>0</th>\n",
              "      <td>M</td>\n",
              "      <td>Y</td>\n",
              "      <td>Y</td>\n",
              "      <td>0</td>\n",
              "      <td>180000.0</td>\n",
              "      <td>Pensioner</td>\n",
              "      <td>Higher education</td>\n",
              "      <td>Married</td>\n",
              "      <td>House / apartment</td>\n",
              "      <td>51.0</td>\n",
              "      <td>0.0</td>\n",
              "      <td>2</td>\n",
              "      <td>1</td>\n",
              "    </tr>\n",
              "    <tr>\n",
              "      <th>1</th>\n",
              "      <td>F</td>\n",
              "      <td>Y</td>\n",
              "      <td>N</td>\n",
              "      <td>0</td>\n",
              "      <td>315000.0</td>\n",
              "      <td>Commercial associate</td>\n",
              "      <td>Higher education</td>\n",
              "      <td>Married</td>\n",
              "      <td>House / apartment</td>\n",
              "      <td>37.0</td>\n",
              "      <td>2.0</td>\n",
              "      <td>2</td>\n",
              "      <td>1</td>\n",
              "    </tr>\n",
              "    <tr>\n",
              "      <th>2</th>\n",
              "      <td>F</td>\n",
              "      <td>Y</td>\n",
              "      <td>N</td>\n",
              "      <td>0</td>\n",
              "      <td>315000.0</td>\n",
              "      <td>Commercial associate</td>\n",
              "      <td>Higher education</td>\n",
              "      <td>Married</td>\n",
              "      <td>House / apartment</td>\n",
              "      <td>40.0</td>\n",
              "      <td>2.0</td>\n",
              "      <td>2</td>\n",
              "      <td>1</td>\n",
              "    </tr>\n",
              "    <tr>\n",
              "      <th>3</th>\n",
              "      <td>F</td>\n",
              "      <td>Y</td>\n",
              "      <td>N</td>\n",
              "      <td>0</td>\n",
              "      <td>234600.0</td>\n",
              "      <td>Commercial associate</td>\n",
              "      <td>Higher education</td>\n",
              "      <td>Married</td>\n",
              "      <td>House / apartment</td>\n",
              "      <td>37.0</td>\n",
              "      <td>2.0</td>\n",
              "      <td>2</td>\n",
              "      <td>1</td>\n",
              "    </tr>\n",
              "    <tr>\n",
              "      <th>4</th>\n",
              "      <td>F</td>\n",
              "      <td>Y</td>\n",
              "      <td>N</td>\n",
              "      <td>0</td>\n",
              "      <td>315000.0</td>\n",
              "      <td>Commercial associate</td>\n",
              "      <td>Higher education</td>\n",
              "      <td>Married</td>\n",
              "      <td>House / apartment</td>\n",
              "      <td>37.0</td>\n",
              "      <td>2.0</td>\n",
              "      <td>2</td>\n",
              "      <td>1</td>\n",
              "    </tr>\n",
              "  </tbody>\n",
              "</table>\n",
              "</div>\n",
              "      <button class=\"colab-df-convert\" onclick=\"convertToInteractive('df-dcc39d67-c940-4c70-b456-1ca4f0c6c4b9')\"\n",
              "              title=\"Convert this dataframe to an interactive table.\"\n",
              "              style=\"display:none;\">\n",
              "        \n",
              "  <svg xmlns=\"http://www.w3.org/2000/svg\" height=\"24px\"viewBox=\"0 0 24 24\"\n",
              "       width=\"24px\">\n",
              "    <path d=\"M0 0h24v24H0V0z\" fill=\"none\"/>\n",
              "    <path d=\"M18.56 5.44l.94 2.06.94-2.06 2.06-.94-2.06-.94-.94-2.06-.94 2.06-2.06.94zm-11 1L8.5 8.5l.94-2.06 2.06-.94-2.06-.94L8.5 2.5l-.94 2.06-2.06.94zm10 10l.94 2.06.94-2.06 2.06-.94-2.06-.94-.94-2.06-.94 2.06-2.06.94z\"/><path d=\"M17.41 7.96l-1.37-1.37c-.4-.4-.92-.59-1.43-.59-.52 0-1.04.2-1.43.59L10.3 9.45l-7.72 7.72c-.78.78-.78 2.05 0 2.83L4 21.41c.39.39.9.59 1.41.59.51 0 1.02-.2 1.41-.59l7.78-7.78 2.81-2.81c.8-.78.8-2.07 0-2.86zM5.41 20L4 18.59l7.72-7.72 1.47 1.35L5.41 20z\"/>\n",
              "  </svg>\n",
              "      </button>\n",
              "      \n",
              "  <style>\n",
              "    .colab-df-container {\n",
              "      display:flex;\n",
              "      flex-wrap:wrap;\n",
              "      gap: 12px;\n",
              "    }\n",
              "\n",
              "    .colab-df-convert {\n",
              "      background-color: #E8F0FE;\n",
              "      border: none;\n",
              "      border-radius: 50%;\n",
              "      cursor: pointer;\n",
              "      display: none;\n",
              "      fill: #1967D2;\n",
              "      height: 32px;\n",
              "      padding: 0 0 0 0;\n",
              "      width: 32px;\n",
              "    }\n",
              "\n",
              "    .colab-df-convert:hover {\n",
              "      background-color: #E2EBFA;\n",
              "      box-shadow: 0px 1px 2px rgba(60, 64, 67, 0.3), 0px 1px 3px 1px rgba(60, 64, 67, 0.15);\n",
              "      fill: #174EA6;\n",
              "    }\n",
              "\n",
              "    [theme=dark] .colab-df-convert {\n",
              "      background-color: #3B4455;\n",
              "      fill: #D2E3FC;\n",
              "    }\n",
              "\n",
              "    [theme=dark] .colab-df-convert:hover {\n",
              "      background-color: #434B5C;\n",
              "      box-shadow: 0px 1px 3px 1px rgba(0, 0, 0, 0.15);\n",
              "      filter: drop-shadow(0px 1px 2px rgba(0, 0, 0, 0.3));\n",
              "      fill: #FFFFFF;\n",
              "    }\n",
              "  </style>\n",
              "\n",
              "      <script>\n",
              "        const buttonEl =\n",
              "          document.querySelector('#df-dcc39d67-c940-4c70-b456-1ca4f0c6c4b9 button.colab-df-convert');\n",
              "        buttonEl.style.display =\n",
              "          google.colab.kernel.accessAllowed ? 'block' : 'none';\n",
              "\n",
              "        async function convertToInteractive(key) {\n",
              "          const element = document.querySelector('#df-dcc39d67-c940-4c70-b456-1ca4f0c6c4b9');\n",
              "          const dataTable =\n",
              "            await google.colab.kernel.invokeFunction('convertToInteractive',\n",
              "                                                     [key], {});\n",
              "          if (!dataTable) return;\n",
              "\n",
              "          const docLinkHtml = 'Like what you see? Visit the ' +\n",
              "            '<a target=\"_blank\" href=https://colab.research.google.com/notebooks/data_table.ipynb>data table notebook</a>'\n",
              "            + ' to learn more about interactive tables.';\n",
              "          element.innerHTML = '';\n",
              "          dataTable['output_type'] = 'display_data';\n",
              "          await google.colab.output.renderOutput(dataTable, element);\n",
              "          const docLink = document.createElement('div');\n",
              "          docLink.innerHTML = docLinkHtml;\n",
              "          element.appendChild(docLink);\n",
              "        }\n",
              "      </script>\n",
              "    </div>\n",
              "  </div>\n",
              "  "
            ]
          },
          "metadata": {},
          "execution_count": 564
        }
      ]
    },
    {
      "cell_type": "code",
      "source": [
        "# This graph shows that, there is no column (Feature) which is highly co-related with 'Status'\n",
        "plt.figure(figsize = (8,8))\n",
        "sns.heatmap(df.corr(), annot=True)\n",
        "plt.show()"
      ],
      "metadata": {
        "colab": {
          "base_uri": "https://localhost:8080/",
          "height": 567
        },
        "id": "T0WQ4XBXk2zl",
        "outputId": "0afa4db2-56ba-41b2-fe2e-90f542cb7065"
      },
      "execution_count": null,
      "outputs": [
        {
          "output_type": "display_data",
          "data": {
            "text/plain": [
              "<Figure size 576x576 with 2 Axes>"
            ],
            "image/png": "[encoded data removed]"
          },
          "metadata": {
            "needs_background": "light"
          }
        }
      ]
    },
    {
      "cell_type": "code",
      "source": [
        "# This graph shows that, majority of application are submitted by Female\n",
        "plt.pie(df['GENDER'].value_counts(), labels=['Female', 'Male'], autopct='%1.2f%%')\n",
        "plt.title('% of Applications submitted based on Gender')\n",
        "plt.show()"
      ],
      "metadata": {
        "colab": {
          "base_uri": "https://localhost:8080/",
          "height": 264
        },
        "id": "doHOPWXtmHRT",
        "outputId": "eaded004-4940-4e98-c3e1-6db021609798"
      },
      "execution_count": null,
      "outputs": [
        {
          "output_type": "display_data",
          "data": {
            "text/plain": [
              "<Figure size 432x288 with 1 Axes>"
            ],
            "image/png": "[encoded data removed]"
          },
          "metadata": {}
        }
      ]
    },
    {
      "cell_type": "code",
      "source": [
        "# This graph shows majority of applications dont own a car\n",
        "sns.countplot(x='Car_Owner',data=df).set(title='Applications owning a car')"
      ],
      "metadata": {
        "colab": {
          "base_uri": "https://localhost:8080/",
          "height": 314
        },
        "id": "Ggd-tbSWrpG4",
        "outputId": "ad9f3aae-d4b8-4060-cd10-998b4317286d"
      },
      "execution_count": null,
      "outputs": [
        {
          "output_type": "execute_result",
          "data": {
            "text/plain": [
              "[Text(0.5, 1.0, 'Applications owning a car')]"
            ]
          },
          "metadata": {},
          "execution_count": 567
        },
        {
          "output_type": "display_data",
          "data": {
            "text/plain": [
              "<Figure size 432x288 with 1 Axes>"
            ],
            "image/png": "[encoded data removed]"
          },
          "metadata": {
            "needs_background": "light"
          }
        }
      ]
    },
    {
      "cell_type": "code",
      "source": [
        "# This graph shows that, majority of applicatant's own a Real Estate property / House\n",
        "plt.pie(df['Propert_Owner'].value_counts(), labels=['Yes','No'], autopct='%1.2f%%')\n",
        "plt.title('% of Applications submitted based on owning a Real estate property')\n",
        "plt.show()"
      ],
      "metadata": {
        "colab": {
          "base_uri": "https://localhost:8080/",
          "height": 264
        },
        "id": "_xRp4Ghit4Ck",
        "outputId": "ea299150-6044-4c9b-92fd-76ef0f6a254f"
      },
      "execution_count": null,
      "outputs": [
        {
          "output_type": "display_data",
          "data": {
            "text/plain": [
              "<Figure size 432x288 with 1 Axes>"
            ],
            "image/png": "[encoded data removed]"
          },
          "metadata": {}
        }
      ]
    },
    {
      "cell_type": "code",
      "source": [
        "# This graph shows that, majority of applicatant's don't have any children\n",
        "plt.figure(figsize = (8,8))\n",
        "plt.pie(df['CHILDREN'].value_counts(), labels=df['CHILDREN'].value_counts().index, autopct='%1.2f%%')\n",
        "plt.title('% of Applications submitted based on Children count')\n",
        "plt.legend()\n",
        "plt.show()"
      ],
      "metadata": {
        "colab": {
          "base_uri": "https://localhost:8080/",
          "height": 482
        },
        "id": "SpgJbOOOsmHN",
        "outputId": "efd835b1-a6ff-40ac-e77a-e8761c3d285e"
      },
      "execution_count": null,
      "outputs": [
        {
          "output_type": "display_data",
          "data": {
            "text/plain": [
              "<Figure size 576x576 with 1 Axes>"
            ],
            "image/png": "[encoded data removed]"
          },
          "metadata": {}
        }
      ]
    },
    {
      "cell_type": "code",
      "source": [
        "# this distribution shows that most families have 2 members\n",
        "sns.barplot(x='Family_Members',y='Annual_income',data=df)\n",
        "plt.title('Income vs Family members')\n"
      ],
      "metadata": {
        "colab": {
          "base_uri": "https://localhost:8080/",
          "height": 314
        },
        "id": "X8EwXhNQG7HD",
        "outputId": "17a4a7d1-f02c-46f4-9e5f-ee9a267d07b0"
      },
      "execution_count": null,
      "outputs": [
        {
          "output_type": "execute_result",
          "data": {
            "text/plain": [
              "Text(0.5, 1.0, 'Income vs Family members')"
            ]
          },
          "metadata": {},
          "execution_count": 570
        },
        {
          "output_type": "display_data",
          "data": {
            "text/plain": [
              "<Figure size 432x288 with 1 Axes>"
            ],
            "image/png": "[encoded data removed]"
          },
          "metadata": {
            "needs_background": "light"
          }
        }
      ]
    },
    {
      "cell_type": "code",
      "source": [],
      "metadata": {
        "id": "C0rkmd5qNrl6"
      },
      "execution_count": null,
      "outputs": []
    },
    {
      "cell_type": "code",
      "source": [
        "# The plot shows that Pensioners tend to have higher age and Working class is distributed all over data. \n",
        "# Commercial associates tend to have higher income \n",
        "plt.figure(figsize=(9,6))\n",
        "sns.scatterplot(x='AGE_YEARS',y='Annual_income',data=df,hue='Type_Income').set(title='Annual Income vs Age')"
      ],
      "metadata": {
        "id": "rSmLNJRQOGyl",
        "colab": {
          "base_uri": "https://localhost:8080/",
          "height": 423
        },
        "outputId": "9e9f99a9-411d-42cd-a3d4-fb2b4187aa03"
      },
      "execution_count": null,
      "outputs": [
        {
          "output_type": "execute_result",
          "data": {
            "text/plain": [
              "[Text(0.5, 1.0, 'Annual Income vs Age')]"
            ]
          },
          "metadata": {},
          "execution_count": 571
        },
        {
          "output_type": "display_data",
          "data": {
            "text/plain": [
              "<Figure size 648x432 with 1 Axes>"
            ],
            "image/png": "[encoded data removed]"
          },
          "metadata": {
            "needs_background": "light"
          }
        }
      ]
    },
    {
      "cell_type": "code",
      "source": [],
      "metadata": {
        "id": "5W7BCS7gZqSm"
      },
      "execution_count": null,
      "outputs": []
    },
    {
      "cell_type": "markdown",
      "source": [
        "###Preprocessing"
      ],
      "metadata": {
        "id": "evmFK0iiyMXg"
      }
    },
    {
      "cell_type": "code",
      "source": [
        "#finding the non numeric columns\n",
        "cat_columns = df.columns[(df.dtypes =='object').values].tolist()\n",
        "cat_columns"
      ],
      "metadata": {
        "colab": {
          "base_uri": "https://localhost:8080/"
        },
        "id": "aRldAMXqxNQr",
        "outputId": "1640e64a-c994-4e15-a577-ec6710fcf27f"
      },
      "execution_count": null,
      "outputs": [
        {
          "output_type": "execute_result",
          "data": {
            "text/plain": [
              "['GENDER',\n",
              " 'Car_Owner',\n",
              " 'Propert_Owner',\n",
              " 'Type_Income',\n",
              " 'EDUCATION',\n",
              " 'Marital_status',\n",
              " 'Housing_type']"
            ]
          },
          "metadata": {},
          "execution_count": 572
        }
      ]
    },
    {
      "cell_type": "code",
      "source": [
        "#Converting all non numeric columns to Numerical so that our ML model can understand\n",
        "from sklearn.preprocessing import LabelEncoder\n",
        "\n",
        "for i in cat_columns:\n",
        "  encoder=LabelEncoder()\n",
        "  df[i]=encoder.fit_transform(df[i])"
      ],
      "metadata": {
        "id": "IUFk3JTdyVsc"
      },
      "execution_count": null,
      "outputs": []
    },
    {
      "cell_type": "code",
      "source": [
        "df.head(25)"
      ],
      "metadata": {
        "colab": {
          "base_uri": "https://localhost:8080/",
          "height": 877
        },
        "id": "08Zq-3680KS9",
        "outputId": "5706c05b-67d8-4291-8157-9116c0e3cce1"
      },
      "execution_count": null,
      "outputs": [
        {
          "output_type": "execute_result",
          "data": {
            "text/plain": [
              "    GENDER  Car_Owner  Propert_Owner  CHILDREN  Annual_income  Type_Income  \\\n",
              "0        1          1              1         0       180000.0            1   \n",
              "1        0          1              0         0       315000.0            0   \n",
              "2        0          1              0         0       315000.0            0   \n",
              "3        0          1              0         0       234600.0            0   \n",
              "4        0          1              0         0       315000.0            0   \n",
              "5        0          1              0         0       315000.0            1   \n",
              "6        0          1              0         0       315000.0            0   \n",
              "7        0          0              0         0       180000.0            1   \n",
              "8        1          1              1         1       450000.0            0   \n",
              "9        1          1              1         1       450000.0            1   \n",
              "10       1          1              1         1       450000.0            0   \n",
              "11       0          1              1         0        90000.0            3   \n",
              "12       0          1              1         0       181049.0            3   \n",
              "13       0          1              1         0        90000.0            3   \n",
              "14       1          0              0         1       472500.0            1   \n",
              "15       1          0              1         0       270000.0            3   \n",
              "16       1          0              1         0       270000.0            3   \n",
              "17       0          0              1         0       126000.0            0   \n",
              "18       0          0              1         0       126000.0            0   \n",
              "19       1          0              1         0        90000.0            1   \n",
              "20       1          0              0         0       202500.0            3   \n",
              "21       1          1              1         0       202500.0            0   \n",
              "22       1          0              1         0       157500.0            0   \n",
              "23       0          0              1         2       112500.0            0   \n",
              "24       0          0              1         0       180000.0            3   \n",
              "\n",
              "    EDUCATION  Marital_status  Housing_type  AGE_YEARS  YEARS_EMPLOYED  \\\n",
              "0           1               1             1       51.0             0.0   \n",
              "1           1               1             1       37.0             2.0   \n",
              "2           1               1             1       40.0             2.0   \n",
              "3           1               1             1       37.0             2.0   \n",
              "4           1               1             1       37.0             2.0   \n",
              "5           1               1             1       37.0             2.0   \n",
              "6           1               1             1       37.0             2.0   \n",
              "7           4               1             1       61.0             0.0   \n",
              "8           4               1             1       50.0             2.0   \n",
              "9           4               1             1       50.0             2.0   \n",
              "10          4               3             1       50.0             2.0   \n",
              "11          4               1             1       52.0             3.0   \n",
              "12          4               1             1       52.0             3.0   \n",
              "13          4               1             1       52.0             3.0   \n",
              "14          1               1             5       24.0             3.0   \n",
              "15          4               1             1       46.0             1.0   \n",
              "16          4               3             1       46.0             1.0   \n",
              "17          1               3             1       52.0             7.0   \n",
              "18          1               3             1       52.0             7.0   \n",
              "19          4               1             1       52.0             5.0   \n",
              "20          1               3             1       35.0            12.0   \n",
              "21          4               0             1       33.0             5.0   \n",
              "22          1               0             1       49.0             3.0   \n",
              "23          4               1             1       33.0             3.0   \n",
              "24          1               1             1       44.0             2.0   \n",
              "\n",
              "    Family_Members  label  \n",
              "0                2      1  \n",
              "1                2      1  \n",
              "2                2      1  \n",
              "3                2      1  \n",
              "4                2      1  \n",
              "5                2      1  \n",
              "6                2      1  \n",
              "7                2      1  \n",
              "8                3      1  \n",
              "9                3      1  \n",
              "10               1      1  \n",
              "11               2      1  \n",
              "12               2      1  \n",
              "13               2      1  \n",
              "14               3      1  \n",
              "15               2      1  \n",
              "16               2      1  \n",
              "17               1      1  \n",
              "18               1      1  \n",
              "19               2      1  \n",
              "20               1      1  \n",
              "21               2      1  \n",
              "22               2      1  \n",
              "23               4      1  \n",
              "24               2      1  "
            ],
            "text/html": [
              "\n",
              "  <div id=\"df-80f9f17e-869c-4a26-aa96-55ec8dde0cb3\">\n",
              "    <div class=\"colab-df-container\">\n",
              "      <div>\n",
              "<style scoped>\n",
              "    .dataframe tbody tr th:only-of-type {\n",
              "        vertical-align: middle;\n",
              "    }\n",
              "\n",
              "    .dataframe tbody tr th {\n",
              "        vertical-align: top;\n",
              "    }\n",
              "\n",
              "    .dataframe thead th {\n",
              "        text-align: right;\n",
              "    }\n",
              "</style>\n",
              "<table border=\"1\" class=\"dataframe\">\n",
              "  <thead>\n",
              "    <tr style=\"text-align: right;\">\n",
              "      <th></th>\n",
              "      <th>GENDER</th>\n",
              "      <th>Car_Owner</th>\n",
              "      <th>Propert_Owner</th>\n",
              "      <th>CHILDREN</th>\n",
              "      <th>Annual_income</th>\n",
              "      <th>Type_Income</th>\n",
              "      <th>EDUCATION</th>\n",
              "      <th>Marital_status</th>\n",
              "      <th>Housing_type</th>\n",
              "      <th>AGE_YEARS</th>\n",
              "      <th>YEARS_EMPLOYED</th>\n",
              "      <th>Family_Members</th>\n",
              "      <th>label</th>\n",
              "    </tr>\n",
              "  </thead>\n",
              "  <tbody>\n",
              "    <tr>\n",
              "      <th>0</th>\n",
              "      <td>1</td>\n",
              "      <td>1</td>\n",
              "      <td>1</td>\n",
              "      <td>0</td>\n",
              "      <td>180000.0</td>\n",
              "      <td>1</td>\n",
              "      <td>1</td>\n",
              "      <td>1</td>\n",
              "      <td>1</td>\n",
              "      <td>51.0</td>\n",
              "      <td>0.0</td>\n",
              "      <td>2</td>\n",
              "      <td>1</td>\n",
              "    </tr>\n",
              "    <tr>\n",
              "      <th>1</th>\n",
              "      <td>0</td>\n",
              "      <td>1</td>\n",
              "      <td>0</td>\n",
              "      <td>0</td>\n",
              "      <td>315000.0</td>\n",
              "      <td>0</td>\n",
              "      <td>1</td>\n",
              "      <td>1</td>\n",
              "      <td>1</td>\n",
              "      <td>37.0</td>\n",
              "      <td>2.0</td>\n",
              "      <td>2</td>\n",
              "      <td>1</td>\n",
              "    </tr>\n",
              "    <tr>\n",
              "      <th>2</th>\n",
              "      <td>0</td>\n",
              "      <td>1</td>\n",
              "      <td>0</td>\n",
              "      <td>0</td>\n",
              "      <td>315000.0</td>\n",
              "      <td>0</td>\n",
              "      <td>1</td>\n",
              "      <td>1</td>\n",
              "      <td>1</td>\n",
              "      <td>40.0</td>\n",
              "      <td>2.0</td>\n",
              "      <td>2</td>\n",
              "      <td>1</td>\n",
              "    </tr>\n",
              "    <tr>\n",
              "      <th>3</th>\n",
              "      <td>0</td>\n",
              "      <td>1</td>\n",
              "      <td>0</td>\n",
              "      <td>0</td>\n",
              "      <td>234600.0</td>\n",
              "      <td>0</td>\n",
              "      <td>1</td>\n",
              "      <td>1</td>\n",
              "      <td>1</td>\n",
              "      <td>37.0</td>\n",
              "      <td>2.0</td>\n",
              "      <td>2</td>\n",
              "      <td>1</td>\n",
              "    </tr>\n",
              "    <tr>\n",
              "      <th>4</th>\n",
              "      <td>0</td>\n",
              "      <td>1</td>\n",
              "      <td>0</td>\n",
              "      <td>0</td>\n",
              "      <td>315000.0</td>\n",
              "      <td>0</td>\n",
              "      <td>1</td>\n",
              "      <td>1</td>\n",
              "      <td>1</td>\n",
              "      <td>37.0</td>\n",
              "      <td>2.0</td>\n",
              "      <td>2</td>\n",
              "      <td>1</td>\n",
              "    </tr>\n",
              "    <tr>\n",
              "      <th>5</th>\n",
              "      <td>0</td>\n",
              "      <td>1</td>\n",
              "      <td>0</td>\n",
              "      <td>0</td>\n",
              "      <td>315000.0</td>\n",
              "      <td>1</td>\n",
              "      <td>1</td>\n",
              "      <td>1</td>\n",
              "      <td>1</td>\n",
              "      <td>37.0</td>\n",
              "      <td>2.0</td>\n",
              "      <td>2</td>\n",
              "      <td>1</td>\n",
              "    </tr>\n",
              "    <tr>\n",
              "      <th>6</th>\n",
              "      <td>0</td>\n",
              "      <td>1</td>\n",
              "      <td>0</td>\n",
              "      <td>0</td>\n",
              "      <td>315000.0</td>\n",
              "      <td>0</td>\n",
              "      <td>1</td>\n",
              "      <td>1</td>\n",
              "      <td>1</td>\n",
              "      <td>37.0</td>\n",
              "      <td>2.0</td>\n",
              "      <td>2</td>\n",
              "      <td>1</td>\n",
              "    </tr>\n",
              "    <tr>\n",
              "      <th>7</th>\n",
              "      <td>0</td>\n",
              "      <td>0</td>\n",
              "      <td>0</td>\n",
              "      <td>0</td>\n",
              "      <td>180000.0</td>\n",
              "      <td>1</td>\n",
              "      <td>4</td>\n",
              "      <td>1</td>\n",
              "      <td>1</td>\n",
              "      <td>61.0</td>\n",
              "      <td>0.0</td>\n",
              "      <td>2</td>\n",
              "      <td>1</td>\n",
              "    </tr>\n",
              "    <tr>\n",
              "      <th>8</th>\n",
              "      <td>1</td>\n",
              "      <td>1</td>\n",
              "      <td>1</td>\n",
              "      <td>1</td>\n",
              "      <td>450000.0</td>\n",
              "      <td>0</td>\n",
              "      <td>4</td>\n",
              "      <td>1</td>\n",
              "      <td>1</td>\n",
              "      <td>50.0</td>\n",
              "      <td>2.0</td>\n",
              "      <td>3</td>\n",
              "      <td>1</td>\n",
              "    </tr>\n",
              "    <tr>\n",
              "      <th>9</th>\n",
              "      <td>1</td>\n",
              "      <td>1</td>\n",
              "      <td>1</td>\n",
              "      <td>1</td>\n",
              "      <td>450000.0</td>\n",
              "      <td>1</td>\n",
              "      <td>4</td>\n",
              "      <td>1</td>\n",
              "      <td>1</td>\n",
              "      <td>50.0</td>\n",
              "      <td>2.0</td>\n",
              "      <td>3</td>\n",
              "      <td>1</td>\n",
              "    </tr>\n",
              "    <tr>\n",
              "      <th>10</th>\n",
              "      <td>1</td>\n",
              "      <td>1</td>\n",
              "      <td>1</td>\n",
              "      <td>1</td>\n",
              "      <td>450000.0</td>\n",
              "      <td>0</td>\n",
              "      <td>4</td>\n",
              "      <td>3</td>\n",
              "      <td>1</td>\n",
              "      <td>50.0</td>\n",
              "      <td>2.0</td>\n",
              "      <td>1</td>\n",
              "      <td>1</td>\n",
              "    </tr>\n",
              "    <tr>\n",
              "      <th>11</th>\n",
              "      <td>0</td>\n",
              "      <td>1</td>\n",
              "      <td>1</td>\n",
              "      <td>0</td>\n",
              "      <td>90000.0</td>\n",
              "      <td>3</td>\n",
              "      <td>4</td>\n",
              "      <td>1</td>\n",
              "      <td>1</td>\n",
              "      <td>52.0</td>\n",
              "      <td>3.0</td>\n",
              "      <td>2</td>\n",
              "      <td>1</td>\n",
              "    </tr>\n",
              "    <tr>\n",
              "      <th>12</th>\n",
              "      <td>0</td>\n",
              "      <td>1</td>\n",
              "      <td>1</td>\n",
              "      <td>0</td>\n",
              "      <td>181049.0</td>\n",
              "      <td>3</td>\n",
              "      <td>4</td>\n",
              "      <td>1</td>\n",
              "      <td>1</td>\n",
              "      <td>52.0</td>\n",
              "      <td>3.0</td>\n",
              "      <td>2</td>\n",
              "      <td>1</td>\n",
              "    </tr>\n",
              "    <tr>\n",
              "      <th>13</th>\n",
              "      <td>0</td>\n",
              "      <td>1</td>\n",
              "      <td>1</td>\n",
              "      <td>0</td>\n",
              "      <td>90000.0</td>\n",
              "      <td>3</td>\n",
              "      <td>4</td>\n",
              "      <td>1</td>\n",
              "      <td>1</td>\n",
              "      <td>52.0</td>\n",
              "      <td>3.0</td>\n",
              "      <td>2</td>\n",
              "      <td>1</td>\n",
              "    </tr>\n",
              "    <tr>\n",
              "      <th>14</th>\n",
              "      <td>1</td>\n",
              "      <td>0</td>\n",
              "      <td>0</td>\n",
              "      <td>1</td>\n",
              "      <td>472500.0</td>\n",
              "      <td>1</td>\n",
              "      <td>1</td>\n",
              "      <td>1</td>\n",
              "      <td>5</td>\n",
              "      <td>24.0</td>\n",
              "      <td>3.0</td>\n",
              "      <td>3</td>\n",
              "      <td>1</td>\n",
              "    </tr>\n",
              "    <tr>\n",
              "      <th>15</th>\n",
              "      <td>1</td>\n",
              "      <td>0</td>\n",
              "      <td>1</td>\n",
              "      <td>0</td>\n",
              "      <td>270000.0</td>\n",
              "      <td>3</td>\n",
              "      <td>4</td>\n",
              "      <td>1</td>\n",
              "      <td>1</td>\n",
              "      <td>46.0</td>\n",
              "      <td>1.0</td>\n",
              "      <td>2</td>\n",
              "      <td>1</td>\n",
              "    </tr>\n",
              "    <tr>\n",
              "      <th>16</th>\n",
              "      <td>1</td>\n",
              "      <td>0</td>\n",
              "      <td>1</td>\n",
              "      <td>0</td>\n",
              "      <td>270000.0</td>\n",
              "      <td>3</td>\n",
              "      <td>4</td>\n",
              "      <td>3</td>\n",
              "      <td>1</td>\n",
              "      <td>46.0</td>\n",
              "      <td>1.0</td>\n",
              "      <td>2</td>\n",
              "      <td>1</td>\n",
              "    </tr>\n",
              "    <tr>\n",
              "      <th>17</th>\n",
              "      <td>0</td>\n",
              "      <td>0</td>\n",
              "      <td>1</td>\n",
              "      <td>0</td>\n",
              "      <td>126000.0</td>\n",
              "      <td>0</td>\n",
              "      <td>1</td>\n",
              "      <td>3</td>\n",
              "      <td>1</td>\n",
              "      <td>52.0</td>\n",
              "      <td>7.0</td>\n",
              "      <td>1</td>\n",
              "      <td>1</td>\n",
              "    </tr>\n",
              "    <tr>\n",
              "      <th>18</th>\n",
              "      <td>0</td>\n",
              "      <td>0</td>\n",
              "      <td>1</td>\n",
              "      <td>0</td>\n",
              "      <td>126000.0</td>\n",
              "      <td>0</td>\n",
              "      <td>1</td>\n",
              "      <td>3</td>\n",
              "      <td>1</td>\n",
              "      <td>52.0</td>\n",
              "      <td>7.0</td>\n",
              "      <td>1</td>\n",
              "      <td>1</td>\n",
              "    </tr>\n",
              "    <tr>\n",
              "      <th>19</th>\n",
              "      <td>1</td>\n",
              "      <td>0</td>\n",
              "      <td>1</td>\n",
              "      <td>0</td>\n",
              "      <td>90000.0</td>\n",
              "      <td>1</td>\n",
              "      <td>4</td>\n",
              "      <td>1</td>\n",
              "      <td>1</td>\n",
              "      <td>52.0</td>\n",
              "      <td>5.0</td>\n",
              "      <td>2</td>\n",
              "      <td>1</td>\n",
              "    </tr>\n",
              "    <tr>\n",
              "      <th>20</th>\n",
              "      <td>1</td>\n",
              "      <td>0</td>\n",
              "      <td>0</td>\n",
              "      <td>0</td>\n",
              "      <td>202500.0</td>\n",
              "      <td>3</td>\n",
              "      <td>1</td>\n",
              "      <td>3</td>\n",
              "      <td>1</td>\n",
              "      <td>35.0</td>\n",
              "      <td>12.0</td>\n",
              "      <td>1</td>\n",
              "      <td>1</td>\n",
              "    </tr>\n",
              "    <tr>\n",
              "      <th>21</th>\n",
              "      <td>1</td>\n",
              "      <td>1</td>\n",
              "      <td>1</td>\n",
              "      <td>0</td>\n",
              "      <td>202500.0</td>\n",
              "      <td>0</td>\n",
              "      <td>4</td>\n",
              "      <td>0</td>\n",
              "      <td>1</td>\n",
              "      <td>33.0</td>\n",
              "      <td>5.0</td>\n",
              "      <td>2</td>\n",
              "      <td>1</td>\n",
              "    </tr>\n",
              "    <tr>\n",
              "      <th>22</th>\n",
              "      <td>1</td>\n",
              "      <td>0</td>\n",
              "      <td>1</td>\n",
              "      <td>0</td>\n",
              "      <td>157500.0</td>\n",
              "      <td>0</td>\n",
              "      <td>1</td>\n",
              "      <td>0</td>\n",
              "      <td>1</td>\n",
              "      <td>49.0</td>\n",
              "      <td>3.0</td>\n",
              "      <td>2</td>\n",
              "      <td>1</td>\n",
              "    </tr>\n",
              "    <tr>\n",
              "      <th>23</th>\n",
              "      <td>0</td>\n",
              "      <td>0</td>\n",
              "      <td>1</td>\n",
              "      <td>2</td>\n",
              "      <td>112500.0</td>\n",
              "      <td>0</td>\n",
              "      <td>4</td>\n",
              "      <td>1</td>\n",
              "      <td>1</td>\n",
              "      <td>33.0</td>\n",
              "      <td>3.0</td>\n",
              "      <td>4</td>\n",
              "      <td>1</td>\n",
              "    </tr>\n",
              "    <tr>\n",
              "      <th>24</th>\n",
              "      <td>0</td>\n",
              "      <td>0</td>\n",
              "      <td>1</td>\n",
              "      <td>0</td>\n",
              "      <td>180000.0</td>\n",
              "      <td>3</td>\n",
              "      <td>1</td>\n",
              "      <td>1</td>\n",
              "      <td>1</td>\n",
              "      <td>44.0</td>\n",
              "      <td>2.0</td>\n",
              "      <td>2</td>\n",
              "      <td>1</td>\n",
              "    </tr>\n",
              "  </tbody>\n",
              "</table>\n",
              "</div>\n",
              "      <button class=\"colab-df-convert\" onclick=\"convertToInteractive('df-80f9f17e-869c-4a26-aa96-55ec8dde0cb3')\"\n",
              "              title=\"Convert this dataframe to an interactive table.\"\n",
              "              style=\"display:none;\">\n",
              "        \n",
              "  <svg xmlns=\"http://www.w3.org/2000/svg\" height=\"24px\"viewBox=\"0 0 24 24\"\n",
              "       width=\"24px\">\n",
              "    <path d=\"M0 0h24v24H0V0z\" fill=\"none\"/>\n",
              "    <path d=\"M18.56 5.44l.94 2.06.94-2.06 2.06-.94-2.06-.94-.94-2.06-.94 2.06-2.06.94zm-11 1L8.5 8.5l.94-2.06 2.06-.94-2.06-.94L8.5 2.5l-.94 2.06-2.06.94zm10 10l.94 2.06.94-2.06 2.06-.94-2.06-.94-.94-2.06-.94 2.06-2.06.94z\"/><path d=\"M17.41 7.96l-1.37-1.37c-.4-.4-.92-.59-1.43-.59-.52 0-1.04.2-1.43.59L10.3 9.45l-7.72 7.72c-.78.78-.78 2.05 0 2.83L4 21.41c.39.39.9.59 1.41.59.51 0 1.02-.2 1.41-.59l7.78-7.78 2.81-2.81c.8-.78.8-2.07 0-2.86zM5.41 20L4 18.59l7.72-7.72 1.47 1.35L5.41 20z\"/>\n",
              "  </svg>\n",
              "      </button>\n",
              "      \n",
              "  <style>\n",
              "    .colab-df-container {\n",
              "      display:flex;\n",
              "      flex-wrap:wrap;\n",
              "      gap: 12px;\n",
              "    }\n",
              "\n",
              "    .colab-df-convert {\n",
              "      background-color: #E8F0FE;\n",
              "      border: none;\n",
              "      border-radius: 50%;\n",
              "      cursor: pointer;\n",
              "      display: none;\n",
              "      fill: #1967D2;\n",
              "      height: 32px;\n",
              "      padding: 0 0 0 0;\n",
              "      width: 32px;\n",
              "    }\n",
              "\n",
              "    .colab-df-convert:hover {\n",
              "      background-color: #E2EBFA;\n",
              "      box-shadow: 0px 1px 2px rgba(60, 64, 67, 0.3), 0px 1px 3px 1px rgba(60, 64, 67, 0.15);\n",
              "      fill: #174EA6;\n",
              "    }\n",
              "\n",
              "    [theme=dark] .colab-df-convert {\n",
              "      background-color: #3B4455;\n",
              "      fill: #D2E3FC;\n",
              "    }\n",
              "\n",
              "    [theme=dark] .colab-df-convert:hover {\n",
              "      background-color: #434B5C;\n",
              "      box-shadow: 0px 1px 3px 1px rgba(0, 0, 0, 0.15);\n",
              "      filter: drop-shadow(0px 1px 2px rgba(0, 0, 0, 0.3));\n",
              "      fill: #FFFFFF;\n",
              "    }\n",
              "  </style>\n",
              "\n",
              "      <script>\n",
              "        const buttonEl =\n",
              "          document.querySelector('#df-80f9f17e-869c-4a26-aa96-55ec8dde0cb3 button.colab-df-convert');\n",
              "        buttonEl.style.display =\n",
              "          google.colab.kernel.accessAllowed ? 'block' : 'none';\n",
              "\n",
              "        async function convertToInteractive(key) {\n",
              "          const element = document.querySelector('#df-80f9f17e-869c-4a26-aa96-55ec8dde0cb3');\n",
              "          const dataTable =\n",
              "            await google.colab.kernel.invokeFunction('convertToInteractive',\n",
              "                                                     [key], {});\n",
              "          if (!dataTable) return;\n",
              "\n",
              "          const docLinkHtml = 'Like what you see? Visit the ' +\n",
              "            '<a target=\"_blank\" href=https://colab.research.google.com/notebooks/data_table.ipynb>data table notebook</a>'\n",
              "            + ' to learn more about interactive tables.';\n",
              "          element.innerHTML = '';\n",
              "          dataTable['output_type'] = 'display_data';\n",
              "          await google.colab.output.renderOutput(dataTable, element);\n",
              "          const docLink = document.createElement('div');\n",
              "          docLink.innerHTML = docLinkHtml;\n",
              "          element.appendChild(docLink);\n",
              "        }\n",
              "      </script>\n",
              "    </div>\n",
              "  </div>\n",
              "  "
            ]
          },
          "metadata": {},
          "execution_count": 574
        }
      ]
    },
    {
      "cell_type": "code",
      "source": [
        "X = df.drop(['label'], axis=1)\n",
        "Y = df['label']"
      ],
      "metadata": {
        "id": "7dFR89dQ0Lld"
      },
      "execution_count": null,
      "outputs": []
    },
    {
      "cell_type": "code",
      "source": [
        "# splitting our data for training and testing our model\n",
        "\n",
        "from sklearn.model_selection import train_test_split\n",
        "x_train, x_test, y_train, y_test = train_test_split(X,\n",
        "                                                    Y,\n",
        "                                                    test_size=0.3,stratify=Y,\n",
        "                                                    random_state = 10)"
      ],
      "metadata": {
        "id": "ko6ds2Ne1O5Y"
      },
      "execution_count": null,
      "outputs": []
    },
    {
      "cell_type": "markdown",
      "source": [
        "Our dataset contain features that are varying in degrees of magnitude, range and units. So we are scaling the data for making data points generalized so that the distance between them will be lower."
      ],
      "metadata": {
        "id": "7vIDjGuikvJQ"
      }
    },
    {
      "cell_type": "code",
      "source": [
        "# scaling all features using MinMaxScaler. This will scale all values in the range 0 to 1.\n",
        "\n",
        "from sklearn.preprocessing import MinMaxScaler\n",
        "MMS = MinMaxScaler()\n",
        "x_train = pd.DataFrame(MMS.fit_transform(x_train), columns=x_train.columns)\n",
        "x_test = pd.DataFrame(MMS.transform(x_test), columns=x_test.columns)"
      ],
      "metadata": {
        "id": "0iV6ym6zUawN"
      },
      "execution_count": null,
      "outputs": []
    },
    {
      "cell_type": "code",
      "source": [],
      "metadata": {
        "id": "h7dbkbSVepDJ"
      },
      "execution_count": null,
      "outputs": []
    },
    {
      "cell_type": "code",
      "source": [
        "# training data after scaling\n",
        "x_train.head(5)"
      ],
      "metadata": {
        "id": "fTVn3AFmUat5",
        "colab": {
          "base_uri": "https://localhost:8080/",
          "height": 206
        },
        "outputId": "4e37cb54-20b6-4952-e7d2-9cd8d6fe6c82"
      },
      "execution_count": null,
      "outputs": [
        {
          "output_type": "execute_result",
          "data": {
            "text/plain": [
              "   GENDER  Car_Owner  Propert_Owner  CHILDREN  Annual_income  Type_Income  \\\n",
              "0     0.0        1.0            1.0  0.000000       0.090909     1.000000   \n",
              "1     1.0        0.0            1.0  0.000000       0.220779     0.000000   \n",
              "2     0.0        0.0            1.0  0.000000       0.142857     0.333333   \n",
              "3     1.0        1.0            1.0  0.000000       0.116883     1.000000   \n",
              "4     1.0        0.0            1.0  0.333333       0.106494     1.000000   \n",
              "\n",
              "   EDUCATION  Marital_status  Housing_type  AGE_YEARS  YEARS_EMPLOYED  \\\n",
              "0       0.25            0.25           0.2   0.148936        0.024390   \n",
              "1       1.00            0.25           0.2   0.234043        0.243902   \n",
              "2       0.75            0.25           0.2   0.914894        0.000000   \n",
              "3       1.00            0.25           0.2   0.170213        0.024390   \n",
              "4       1.00            0.00           0.2   0.276596        0.000000   \n",
              "\n",
              "   Family_Members  \n",
              "0            0.25  \n",
              "1            0.25  \n",
              "2            0.25  \n",
              "3            0.25  \n",
              "4            0.50  "
            ],
            "text/html": [
              "\n",
              "  <div id=\"df-7778aacb-ee85-46f3-b086-65c89f997753\">\n",
              "    <div class=\"colab-df-container\">\n",
              "      <div>\n",
              "<style scoped>\n",
              "    .dataframe tbody tr th:only-of-type {\n",
              "        vertical-align: middle;\n",
              "    }\n",
              "\n",
              "    .dataframe tbody tr th {\n",
              "        vertical-align: top;\n",
              "    }\n",
              "\n",
              "    .dataframe thead th {\n",
              "        text-align: right;\n",
              "    }\n",
              "</style>\n",
              "<table border=\"1\" class=\"dataframe\">\n",
              "  <thead>\n",
              "    <tr style=\"text-align: right;\">\n",
              "      <th></th>\n",
              "      <th>GENDER</th>\n",
              "      <th>Car_Owner</th>\n",
              "      <th>Propert_Owner</th>\n",
              "      <th>CHILDREN</th>\n",
              "      <th>Annual_income</th>\n",
              "      <th>Type_Income</th>\n",
              "      <th>EDUCATION</th>\n",
              "      <th>Marital_status</th>\n",
              "      <th>Housing_type</th>\n",
              "      <th>AGE_YEARS</th>\n",
              "      <th>YEARS_EMPLOYED</th>\n",
              "      <th>Family_Members</th>\n",
              "    </tr>\n",
              "  </thead>\n",
              "  <tbody>\n",
              "    <tr>\n",
              "      <th>0</th>\n",
              "      <td>0.0</td>\n",
              "      <td>1.0</td>\n",
              "      <td>1.0</td>\n",
              "      <td>0.000000</td>\n",
              "      <td>0.090909</td>\n",
              "      <td>1.000000</td>\n",
              "      <td>0.25</td>\n",
              "      <td>0.25</td>\n",
              "      <td>0.2</td>\n",
              "      <td>0.148936</td>\n",
              "      <td>0.024390</td>\n",
              "      <td>0.25</td>\n",
              "    </tr>\n",
              "    <tr>\n",
              "      <th>1</th>\n",
              "      <td>1.0</td>\n",
              "      <td>0.0</td>\n",
              "      <td>1.0</td>\n",
              "      <td>0.000000</td>\n",
              "      <td>0.220779</td>\n",
              "      <td>0.000000</td>\n",
              "      <td>1.00</td>\n",
              "      <td>0.25</td>\n",
              "      <td>0.2</td>\n",
              "      <td>0.234043</td>\n",
              "      <td>0.243902</td>\n",
              "      <td>0.25</td>\n",
              "    </tr>\n",
              "    <tr>\n",
              "      <th>2</th>\n",
              "      <td>0.0</td>\n",
              "      <td>0.0</td>\n",
              "      <td>1.0</td>\n",
              "      <td>0.000000</td>\n",
              "      <td>0.142857</td>\n",
              "      <td>0.333333</td>\n",
              "      <td>0.75</td>\n",
              "      <td>0.25</td>\n",
              "      <td>0.2</td>\n",
              "      <td>0.914894</td>\n",
              "      <td>0.000000</td>\n",
              "      <td>0.25</td>\n",
              "    </tr>\n",
              "    <tr>\n",
              "      <th>3</th>\n",
              "      <td>1.0</td>\n",
              "      <td>1.0</td>\n",
              "      <td>1.0</td>\n",
              "      <td>0.000000</td>\n",
              "      <td>0.116883</td>\n",
              "      <td>1.000000</td>\n",
              "      <td>1.00</td>\n",
              "      <td>0.25</td>\n",
              "      <td>0.2</td>\n",
              "      <td>0.170213</td>\n",
              "      <td>0.024390</td>\n",
              "      <td>0.25</td>\n",
              "    </tr>\n",
              "    <tr>\n",
              "      <th>4</th>\n",
              "      <td>1.0</td>\n",
              "      <td>0.0</td>\n",
              "      <td>1.0</td>\n",
              "      <td>0.333333</td>\n",
              "      <td>0.106494</td>\n",
              "      <td>1.000000</td>\n",
              "      <td>1.00</td>\n",
              "      <td>0.00</td>\n",
              "      <td>0.2</td>\n",
              "      <td>0.276596</td>\n",
              "      <td>0.000000</td>\n",
              "      <td>0.50</td>\n",
              "    </tr>\n",
              "  </tbody>\n",
              "</table>\n",
              "</div>\n",
              "      <button class=\"colab-df-convert\" onclick=\"convertToInteractive('df-7778aacb-ee85-46f3-b086-65c89f997753')\"\n",
              "              title=\"Convert this dataframe to an interactive table.\"\n",
              "              style=\"display:none;\">\n",
              "        \n",
              "  <svg xmlns=\"http://www.w3.org/2000/svg\" height=\"24px\"viewBox=\"0 0 24 24\"\n",
              "       width=\"24px\">\n",
              "    <path d=\"M0 0h24v24H0V0z\" fill=\"none\"/>\n",
              "    <path d=\"M18.56 5.44l.94 2.06.94-2.06 2.06-.94-2.06-.94-.94-2.06-.94 2.06-2.06.94zm-11 1L8.5 8.5l.94-2.06 2.06-.94-2.06-.94L8.5 2.5l-.94 2.06-2.06.94zm10 10l.94 2.06.94-2.06 2.06-.94-2.06-.94-.94-2.06-.94 2.06-2.06.94z\"/><path d=\"M17.41 7.96l-1.37-1.37c-.4-.4-.92-.59-1.43-.59-.52 0-1.04.2-1.43.59L10.3 9.45l-7.72 7.72c-.78.78-.78 2.05 0 2.83L4 21.41c.39.39.9.59 1.41.59.51 0 1.02-.2 1.41-.59l7.78-7.78 2.81-2.81c.8-.78.8-2.07 0-2.86zM5.41 20L4 18.59l7.72-7.72 1.47 1.35L5.41 20z\"/>\n",
              "  </svg>\n",
              "      </button>\n",
              "      \n",
              "  <style>\n",
              "    .colab-df-container {\n",
              "      display:flex;\n",
              "      flex-wrap:wrap;\n",
              "      gap: 12px;\n",
              "    }\n",
              "\n",
              "    .colab-df-convert {\n",
              "      background-color: #E8F0FE;\n",
              "      border: none;\n",
              "      border-radius: 50%;\n",
              "      cursor: pointer;\n",
              "      display: none;\n",
              "      fill: #1967D2;\n",
              "      height: 32px;\n",
              "      padding: 0 0 0 0;\n",
              "      width: 32px;\n",
              "    }\n",
              "\n",
              "    .colab-df-convert:hover {\n",
              "      background-color: #E2EBFA;\n",
              "      box-shadow: 0px 1px 2px rgba(60, 64, 67, 0.3), 0px 1px 3px 1px rgba(60, 64, 67, 0.15);\n",
              "      fill: #174EA6;\n",
              "    }\n",
              "\n",
              "    [theme=dark] .colab-df-convert {\n",
              "      background-color: #3B4455;\n",
              "      fill: #D2E3FC;\n",
              "    }\n",
              "\n",
              "    [theme=dark] .colab-df-convert:hover {\n",
              "      background-color: #434B5C;\n",
              "      box-shadow: 0px 1px 3px 1px rgba(0, 0, 0, 0.15);\n",
              "      filter: drop-shadow(0px 1px 2px rgba(0, 0, 0, 0.3));\n",
              "      fill: #FFFFFF;\n",
              "    }\n",
              "  </style>\n",
              "\n",
              "      <script>\n",
              "        const buttonEl =\n",
              "          document.querySelector('#df-7778aacb-ee85-46f3-b086-65c89f997753 button.colab-df-convert');\n",
              "        buttonEl.style.display =\n",
              "          google.colab.kernel.accessAllowed ? 'block' : 'none';\n",
              "\n",
              "        async function convertToInteractive(key) {\n",
              "          const element = document.querySelector('#df-7778aacb-ee85-46f3-b086-65c89f997753');\n",
              "          const dataTable =\n",
              "            await google.colab.kernel.invokeFunction('convertToInteractive',\n",
              "                                                     [key], {});\n",
              "          if (!dataTable) return;\n",
              "\n",
              "          const docLinkHtml = 'Like what you see? Visit the ' +\n",
              "            '<a target=\"_blank\" href=https://colab.research.google.com/notebooks/data_table.ipynb>data table notebook</a>'\n",
              "            + ' to learn more about interactive tables.';\n",
              "          element.innerHTML = '';\n",
              "          dataTable['output_type'] = 'display_data';\n",
              "          await google.colab.output.renderOutput(dataTable, element);\n",
              "          const docLink = document.createElement('div');\n",
              "          docLink.innerHTML = docLinkHtml;\n",
              "          element.appendChild(docLink);\n",
              "        }\n",
              "      </script>\n",
              "    </div>\n",
              "  </div>\n",
              "  "
            ]
          },
          "metadata": {},
          "execution_count": 578
        }
      ]
    },
    {
      "cell_type": "code",
      "source": [
        "# testing data after scaling\n",
        "x_test.head(5)"
      ],
      "metadata": {
        "id": "vmfnNxRpUarl",
        "colab": {
          "base_uri": "https://localhost:8080/",
          "height": 206
        },
        "outputId": "40a20291-c595-487e-f068-e21121c635ce"
      },
      "execution_count": null,
      "outputs": [
        {
          "output_type": "execute_result",
          "data": {
            "text/plain": [
              "   GENDER  Car_Owner  Propert_Owner  CHILDREN  Annual_income  Type_Income  \\\n",
              "0     0.0        0.0            1.0  0.000000       0.246753     0.000000   \n",
              "1     1.0        1.0            1.0  0.666667       0.480519     0.000000   \n",
              "2     0.0        0.0            1.0  0.000000       0.012468     0.333333   \n",
              "3     1.0        0.0            1.0  0.666667       0.376623     0.666667   \n",
              "4     0.0        0.0            1.0  0.666667       0.090909     1.000000   \n",
              "\n",
              "   EDUCATION  Marital_status  Housing_type  AGE_YEARS  YEARS_EMPLOYED  \\\n",
              "0       1.00            0.25           0.2   0.276596        0.195122   \n",
              "1       0.25            0.25           0.2   0.595745        0.292683   \n",
              "2       1.00            0.25           0.2   0.893617        0.000000   \n",
              "3       0.25            0.25           0.2   0.489362        0.365854   \n",
              "4       1.00            0.25           1.0   0.404255        0.024390   \n",
              "\n",
              "   Family_Members  \n",
              "0            0.25  \n",
              "1            0.75  \n",
              "2            0.25  \n",
              "3            0.75  \n",
              "4            0.75  "
            ],
            "text/html": [
              "\n",
              "  <div id=\"df-0e25559f-8202-4c0c-84b4-5a3299cd9762\">\n",
              "    <div class=\"colab-df-container\">\n",
              "      <div>\n",
              "<style scoped>\n",
              "    .dataframe tbody tr th:only-of-type {\n",
              "        vertical-align: middle;\n",
              "    }\n",
              "\n",
              "    .dataframe tbody tr th {\n",
              "        vertical-align: top;\n",
              "    }\n",
              "\n",
              "    .dataframe thead th {\n",
              "        text-align: right;\n",
              "    }\n",
              "</style>\n",
              "<table border=\"1\" class=\"dataframe\">\n",
              "  <thead>\n",
              "    <tr style=\"text-align: right;\">\n",
              "      <th></th>\n",
              "      <th>GENDER</th>\n",
              "      <th>Car_Owner</th>\n",
              "      <th>Propert_Owner</th>\n",
              "      <th>CHILDREN</th>\n",
              "      <th>Annual_income</th>\n",
              "      <th>Type_Income</th>\n",
              "      <th>EDUCATION</th>\n",
              "      <th>Marital_status</th>\n",
              "      <th>Housing_type</th>\n",
              "      <th>AGE_YEARS</th>\n",
              "      <th>YEARS_EMPLOYED</th>\n",
              "      <th>Family_Members</th>\n",
              "    </tr>\n",
              "  </thead>\n",
              "  <tbody>\n",
              "    <tr>\n",
              "      <th>0</th>\n",
              "      <td>0.0</td>\n",
              "      <td>0.0</td>\n",
              "      <td>1.0</td>\n",
              "      <td>0.000000</td>\n",
              "      <td>0.246753</td>\n",
              "      <td>0.000000</td>\n",
              "      <td>1.00</td>\n",
              "      <td>0.25</td>\n",
              "      <td>0.2</td>\n",
              "      <td>0.276596</td>\n",
              "      <td>0.195122</td>\n",
              "      <td>0.25</td>\n",
              "    </tr>\n",
              "    <tr>\n",
              "      <th>1</th>\n",
              "      <td>1.0</td>\n",
              "      <td>1.0</td>\n",
              "      <td>1.0</td>\n",
              "      <td>0.666667</td>\n",
              "      <td>0.480519</td>\n",
              "      <td>0.000000</td>\n",
              "      <td>0.25</td>\n",
              "      <td>0.25</td>\n",
              "      <td>0.2</td>\n",
              "      <td>0.595745</td>\n",
              "      <td>0.292683</td>\n",
              "      <td>0.75</td>\n",
              "    </tr>\n",
              "    <tr>\n",
              "      <th>2</th>\n",
              "      <td>0.0</td>\n",
              "      <td>0.0</td>\n",
              "      <td>1.0</td>\n",
              "      <td>0.000000</td>\n",
              "      <td>0.012468</td>\n",
              "      <td>0.333333</td>\n",
              "      <td>1.00</td>\n",
              "      <td>0.25</td>\n",
              "      <td>0.2</td>\n",
              "      <td>0.893617</td>\n",
              "      <td>0.000000</td>\n",
              "      <td>0.25</td>\n",
              "    </tr>\n",
              "    <tr>\n",
              "      <th>3</th>\n",
              "      <td>1.0</td>\n",
              "      <td>0.0</td>\n",
              "      <td>1.0</td>\n",
              "      <td>0.666667</td>\n",
              "      <td>0.376623</td>\n",
              "      <td>0.666667</td>\n",
              "      <td>0.25</td>\n",
              "      <td>0.25</td>\n",
              "      <td>0.2</td>\n",
              "      <td>0.489362</td>\n",
              "      <td>0.365854</td>\n",
              "      <td>0.75</td>\n",
              "    </tr>\n",
              "    <tr>\n",
              "      <th>4</th>\n",
              "      <td>0.0</td>\n",
              "      <td>0.0</td>\n",
              "      <td>1.0</td>\n",
              "      <td>0.666667</td>\n",
              "      <td>0.090909</td>\n",
              "      <td>1.000000</td>\n",
              "      <td>1.00</td>\n",
              "      <td>0.25</td>\n",
              "      <td>1.0</td>\n",
              "      <td>0.404255</td>\n",
              "      <td>0.024390</td>\n",
              "      <td>0.75</td>\n",
              "    </tr>\n",
              "  </tbody>\n",
              "</table>\n",
              "</div>\n",
              "      <button class=\"colab-df-convert\" onclick=\"convertToInteractive('df-0e25559f-8202-4c0c-84b4-5a3299cd9762')\"\n",
              "              title=\"Convert this dataframe to an interactive table.\"\n",
              "              style=\"display:none;\">\n",
              "        \n",
              "  <svg xmlns=\"http://www.w3.org/2000/svg\" height=\"24px\"viewBox=\"0 0 24 24\"\n",
              "       width=\"24px\">\n",
              "    <path d=\"M0 0h24v24H0V0z\" fill=\"none\"/>\n",
              "    <path d=\"M18.56 5.44l.94 2.06.94-2.06 2.06-.94-2.06-.94-.94-2.06-.94 2.06-2.06.94zm-11 1L8.5 8.5l.94-2.06 2.06-.94-2.06-.94L8.5 2.5l-.94 2.06-2.06.94zm10 10l.94 2.06.94-2.06 2.06-.94-2.06-.94-.94-2.06-.94 2.06-2.06.94z\"/><path d=\"M17.41 7.96l-1.37-1.37c-.4-.4-.92-.59-1.43-.59-.52 0-1.04.2-1.43.59L10.3 9.45l-7.72 7.72c-.78.78-.78 2.05 0 2.83L4 21.41c.39.39.9.59 1.41.59.51 0 1.02-.2 1.41-.59l7.78-7.78 2.81-2.81c.8-.78.8-2.07 0-2.86zM5.41 20L4 18.59l7.72-7.72 1.47 1.35L5.41 20z\"/>\n",
              "  </svg>\n",
              "      </button>\n",
              "      \n",
              "  <style>\n",
              "    .colab-df-container {\n",
              "      display:flex;\n",
              "      flex-wrap:wrap;\n",
              "      gap: 12px;\n",
              "    }\n",
              "\n",
              "    .colab-df-convert {\n",
              "      background-color: #E8F0FE;\n",
              "      border: none;\n",
              "      border-radius: 50%;\n",
              "      cursor: pointer;\n",
              "      display: none;\n",
              "      fill: #1967D2;\n",
              "      height: 32px;\n",
              "      padding: 0 0 0 0;\n",
              "      width: 32px;\n",
              "    }\n",
              "\n",
              "    .colab-df-convert:hover {\n",
              "      background-color: #E2EBFA;\n",
              "      box-shadow: 0px 1px 2px rgba(60, 64, 67, 0.3), 0px 1px 3px 1px rgba(60, 64, 67, 0.15);\n",
              "      fill: #174EA6;\n",
              "    }\n",
              "\n",
              "    [theme=dark] .colab-df-convert {\n",
              "      background-color: #3B4455;\n",
              "      fill: #D2E3FC;\n",
              "    }\n",
              "\n",
              "    [theme=dark] .colab-df-convert:hover {\n",
              "      background-color: #434B5C;\n",
              "      box-shadow: 0px 1px 3px 1px rgba(0, 0, 0, 0.15);\n",
              "      filter: drop-shadow(0px 1px 2px rgba(0, 0, 0, 0.3));\n",
              "      fill: #FFFFFF;\n",
              "    }\n",
              "  </style>\n",
              "\n",
              "      <script>\n",
              "        const buttonEl =\n",
              "          document.querySelector('#df-0e25559f-8202-4c0c-84b4-5a3299cd9762 button.colab-df-convert');\n",
              "        buttonEl.style.display =\n",
              "          google.colab.kernel.accessAllowed ? 'block' : 'none';\n",
              "\n",
              "        async function convertToInteractive(key) {\n",
              "          const element = document.querySelector('#df-0e25559f-8202-4c0c-84b4-5a3299cd9762');\n",
              "          const dataTable =\n",
              "            await google.colab.kernel.invokeFunction('convertToInteractive',\n",
              "                                                     [key], {});\n",
              "          if (!dataTable) return;\n",
              "\n",
              "          const docLinkHtml = 'Like what you see? Visit the ' +\n",
              "            '<a target=\"_blank\" href=https://colab.research.google.com/notebooks/data_table.ipynb>data table notebook</a>'\n",
              "            + ' to learn more about interactive tables.';\n",
              "          element.innerHTML = '';\n",
              "          dataTable['output_type'] = 'display_data';\n",
              "          await google.colab.output.renderOutput(dataTable, element);\n",
              "          const docLink = document.createElement('div');\n",
              "          docLink.innerHTML = docLinkHtml;\n",
              "          element.appendChild(docLink);\n",
              "        }\n",
              "      </script>\n",
              "    </div>\n",
              "  </div>\n",
              "  "
            ]
          },
          "metadata": {},
          "execution_count": 579
        }
      ]
    },
    {
      "cell_type": "markdown",
      "source": [
        "### Balancing Dataset"
      ],
      "metadata": {
        "id": "SEmFf8Gwepmh"
      }
    },
    {
      "cell_type": "code",
      "source": [
        "y_train.value_counts()"
      ],
      "metadata": {
        "colab": {
          "base_uri": "https://localhost:8080/"
        },
        "id": "kqR4HdP0Ua8U",
        "outputId": "7e84571c-62ca-4023-b729-ac76e6a09bba"
      },
      "execution_count": null,
      "outputs": [
        {
          "output_type": "execute_result",
          "data": {
            "text/plain": [
              "0    958\n",
              "1    122\n",
              "Name: label, dtype: int64"
            ]
          },
          "metadata": {},
          "execution_count": 580
        }
      ]
    },
    {
      "cell_type": "code",
      "source": [
        "sns.countplot(y_train)"
      ],
      "metadata": {
        "colab": {
          "base_uri": "https://localhost:8080/",
          "height": 357
        },
        "id": "xQJ8G0s-Ua59",
        "outputId": "7df0a68b-c8f2-46dc-ed37-99fb230c6807"
      },
      "execution_count": null,
      "outputs": [
        {
          "output_type": "stream",
          "name": "stderr",
          "text": [
            "/usr/local/lib/python3.9/dist-packages/seaborn/_decorators.py:36: FutureWarning: Pass the following variable as a keyword arg: x. From version 0.12, the only valid positional argument will be `data`, and passing other arguments without an explicit keyword will result in an error or misinterpretation.\n",
            "  warnings.warn(\n"
          ]
        },
        {
          "output_type": "execute_result",
          "data": {
            "text/plain": [
              "<AxesSubplot:xlabel='label', ylabel='count'>"
            ]
          },
          "metadata": {},
          "execution_count": 581
        },
        {
          "output_type": "display_data",
          "data": {
            "text/plain": [
              "<Figure size 432x288 with 1 Axes>"
            ],
            "image/png": "[encoded data removed]"
          },
          "metadata": {
            "needs_background": "light"
          }
        }
      ]
    },
    {
      "cell_type": "markdown",
      "source": [
        "As we can see that most of the records are for application approved. This is not good for ML model as it will be biased to one label"
      ],
      "metadata": {
        "id": "K83LbwsRVE1-"
      }
    },
    {
      "cell_type": "code",
      "source": [
        "# adding samples to minority class using SMOTE\n",
        "from imblearn.over_sampling import SMOTE\n",
        "oversample = SMOTE()\n",
        "\n",
        "x_train_oversam, y_train_oversam = oversample.fit_resample(x_train, y_train)\n",
        "x_test_oversam, y_test_oversam = oversample.fit_resample(x_test, y_test)"
      ],
      "metadata": {
        "id": "ZmawQv3pUa3Y"
      },
      "execution_count": null,
      "outputs": []
    },
    {
      "cell_type": "code",
      "source": [
        "# label count after using SMOTE \n",
        "y_train_oversam.value_counts()"
      ],
      "metadata": {
        "colab": {
          "base_uri": "https://localhost:8080/"
        },
        "id": "rUfQuyaPUa1B",
        "outputId": "b2e392ae-374e-4c7e-97e9-48162512118f"
      },
      "execution_count": null,
      "outputs": [
        {
          "output_type": "execute_result",
          "data": {
            "text/plain": [
              "0    958\n",
              "1    958\n",
              "Name: label, dtype: int64"
            ]
          },
          "metadata": {},
          "execution_count": 583
        }
      ]
    },
    {
      "cell_type": "code",
      "source": [
        "sns.countplot(y_train_oversam)"
      ],
      "metadata": {
        "colab": {
          "base_uri": "https://localhost:8080/",
          "height": 357
        },
        "id": "1rfR5stOUayl",
        "outputId": "bcf8c933-d511-4194-e4c8-1800b83c7384"
      },
      "execution_count": null,
      "outputs": [
        {
          "output_type": "stream",
          "name": "stderr",
          "text": [
            "/usr/local/lib/python3.9/dist-packages/seaborn/_decorators.py:36: FutureWarning: Pass the following variable as a keyword arg: x. From version 0.12, the only valid positional argument will be `data`, and passing other arguments without an explicit keyword will result in an error or misinterpretation.\n",
            "  warnings.warn(\n"
          ]
        },
        {
          "output_type": "execute_result",
          "data": {
            "text/plain": [
              "<AxesSubplot:xlabel='label', ylabel='count'>"
            ]
          },
          "metadata": {},
          "execution_count": 584
        },
        {
          "output_type": "display_data",
          "data": {
            "text/plain": [
              "<Figure size 432x288 with 1 Axes>"
            ],
            "image/png": "[encoded data removed]"
          },
          "metadata": {
            "needs_background": "light"
          }
        }
      ]
    },
    {
      "cell_type": "markdown",
      "source": [
        "Now we have equal records for both labels. We can now use this to our model"
      ],
      "metadata": {
        "id": "P1yaY6TjX3gq"
      }
    },
    {
      "cell_type": "code",
      "source": [],
      "metadata": {
        "id": "yTliJPVFUabI"
      },
      "execution_count": null,
      "outputs": []
    },
    {
      "cell_type": "markdown",
      "source": [
        "### Machine Learning models"
      ],
      "metadata": {
        "id": "GIT9wV_MX744"
      }
    },
    {
      "cell_type": "code",
      "source": [
        "#creating lists for storing the accuracy scores of each model and the model name\n",
        "acc_score=[]\n",
        "models=[]"
      ],
      "metadata": {
        "id": "9P_yw9BgmUN_"
      },
      "execution_count": null,
      "outputs": []
    },
    {
      "cell_type": "code",
      "source": [
        "# Logistic Regression\n",
        "\n",
        "from sklearn.linear_model import LogisticRegression\n",
        "from sklearn.metrics import classification_report, accuracy_score, confusion_matrix\n",
        "\n",
        "log_model = LogisticRegression()\n",
        "log_model.fit(x_train_oversam, y_train_oversam)\n",
        "prediction=log_model.predict(x_test_oversam)\n",
        "print(\"Accuracy score using Logistic Regression =\",accuracy_score(prediction,y_test_oversam))\n",
        "print('\\nClassification report:')      \n",
        "print(classification_report(y_test_oversam, prediction))\n",
        "acc_score.append(accuracy_score(prediction,y_test_oversam))\n",
        "      "
      ],
      "metadata": {
        "colab": {
          "base_uri": "https://localhost:8080/"
        },
        "id": "mhOy0IcC1X2w",
        "outputId": "896929dd-b63f-46b6-8b41-f8e9a6d819f5"
      },
      "execution_count": null,
      "outputs": [
        {
          "output_type": "stream",
          "name": "stdout",
          "text": [
            "Accuracy score using Logistic Regression = 0.5728155339805825\n",
            "\n",
            "Classification report:\n",
            "              precision    recall  f1-score   support\n",
            "\n",
            "           0       0.56      0.64      0.60       412\n",
            "           1       0.58      0.50      0.54       412\n",
            "\n",
            "    accuracy                           0.57       824\n",
            "   macro avg       0.57      0.57      0.57       824\n",
            "weighted avg       0.57      0.57      0.57       824\n",
            "\n"
          ]
        }
      ]
    },
    {
      "cell_type": "code",
      "source": [
        "from sklearn.tree import DecisionTreeClassifier\n",
        "\n",
        "decision_model = DecisionTreeClassifier(max_depth=12,min_samples_split=8)\n",
        "\n",
        "decision_model.fit(x_train_oversam, y_train_oversam)\n",
        "prediction=decision_model.predict(x_test_oversam)\n",
        "print(\"Accuracy score using DecisionTreeClassifier =\",accuracy_score(prediction,y_test_oversam))\n",
        "print('\\nClassification report:')      \n",
        "print(classification_report(y_test_oversam, prediction))\n",
        "acc_score.append(accuracy_score(prediction,y_test_oversam))"
      ],
      "metadata": {
        "colab": {
          "base_uri": "https://localhost:8080/"
        },
        "id": "GsPqSk5T3iKH",
        "outputId": "1e83b94a-e327-4496-bcc8-41e3910fc4e9"
      },
      "execution_count": null,
      "outputs": [
        {
          "output_type": "stream",
          "name": "stdout",
          "text": [
            "Accuracy score using DecisionTreeClassifier = 0.7645631067961165\n",
            "\n",
            "Classification report:\n",
            "              precision    recall  f1-score   support\n",
            "\n",
            "           0       0.72      0.87      0.79       412\n",
            "           1       0.83      0.66      0.74       412\n",
            "\n",
            "    accuracy                           0.76       824\n",
            "   macro avg       0.78      0.76      0.76       824\n",
            "weighted avg       0.78      0.76      0.76       824\n",
            "\n"
          ]
        }
      ]
    },
    {
      "cell_type": "code",
      "source": [
        "# Support Vector Machine classification\n",
        "\n",
        "from sklearn.svm import SVC\n",
        "\n",
        "svc_model = SVC()\n",
        "\n",
        "svc_model.fit(x_train_oversam, y_train_oversam)\n",
        "prediction = svc_model.predict(x_test_oversam)\n",
        "\n",
        "print(\"Accuracy score using SVC =\",accuracy_score(prediction,y_test_oversam))\n",
        "print('\\nClassification report:')      \n",
        "print(classification_report(y_test_oversam, prediction))\n",
        "acc_score.append(accuracy_score(prediction,y_test_oversam))"
      ],
      "metadata": {
        "colab": {
          "base_uri": "https://localhost:8080/"
        },
        "id": "AJMxKvFrd2lR",
        "outputId": "34f4d1fd-4e3f-4d8f-d4e1-818322d82257"
      },
      "execution_count": null,
      "outputs": [
        {
          "output_type": "stream",
          "name": "stdout",
          "text": [
            "Accuracy score using SVC = 0.6796116504854369\n",
            "\n",
            "Classification report:\n",
            "              precision    recall  f1-score   support\n",
            "\n",
            "           0       0.69      0.65      0.67       412\n",
            "           1       0.67      0.71      0.69       412\n",
            "\n",
            "    accuracy                           0.68       824\n",
            "   macro avg       0.68      0.68      0.68       824\n",
            "weighted avg       0.68      0.68      0.68       824\n",
            "\n"
          ]
        }
      ]
    },
    {
      "cell_type": "code",
      "source": [
        "# XGBoost  classification\n",
        "\n",
        "from xgboost import XGBClassifier\n",
        "\n",
        "XGB_model = XGBClassifier()\n",
        "\n",
        "XGB_model.fit(x_train_oversam, y_train_oversam)\n",
        "prediction = XGB_model.predict(x_test_oversam)\n",
        "\n",
        "print(\"Accuracy score using XGBoost =\",accuracy_score(prediction,y_test_oversam))\n",
        "\n",
        "      \n",
        "print('\\nClassification report:')      \n",
        "print(classification_report(y_test_oversam, prediction))\n",
        "acc_score.append(accuracy_score(prediction,y_test_oversam))"
      ],
      "metadata": {
        "id": "-5YVxycN4VBY",
        "colab": {
          "base_uri": "https://localhost:8080/"
        },
        "outputId": "d66f88d3-070a-473e-d769-2c240be350f8"
      },
      "execution_count": null,
      "outputs": [
        {
          "output_type": "stream",
          "name": "stdout",
          "text": [
            "Accuracy score using XGBoost = 0.8725728155339806\n",
            "\n",
            "Classification report:\n",
            "              precision    recall  f1-score   support\n",
            "\n",
            "           0       0.82      0.95      0.88       412\n",
            "           1       0.94      0.79      0.86       412\n",
            "\n",
            "    accuracy                           0.87       824\n",
            "   macro avg       0.88      0.87      0.87       824\n",
            "weighted avg       0.88      0.87      0.87       824\n",
            "\n"
          ]
        }
      ]
    },
    {
      "cell_type": "code",
      "source": [
        "plt.figure(figsize=(10,7))\n",
        "models=['LogisticRegression','DecisionTree','SupportVectorClassifier','XGBoost']\n",
        "sns.barplot(x=models,y=acc_score).set(title='Comparing the Models')\n",
        "plt.ylabel('Accuracy_score')"
      ],
      "metadata": {
        "colab": {
          "base_uri": "https://localhost:8080/",
          "height": 462
        },
        "id": "5EZhJotQnG6l",
        "outputId": "da0f8601-b528-47f2-eddf-b1d29f98a217"
      },
      "execution_count": null,
      "outputs": [
        {
          "output_type": "execute_result",
          "data": {
            "text/plain": [
              "Text(0, 0.5, 'Accuracy_score')"
            ]
          },
          "metadata": {},
          "execution_count": 590
        },
        {
          "output_type": "display_data",
          "data": {
            "text/plain": [
              "<Figure size 720x504 with 1 Axes>"
            ],
            "image/png": "[encoded data removed]"
          },
          "metadata": {
            "needs_background": "light"
          }
        }
      ]
    },
    {
      "cell_type": "markdown",
      "source": [
        "###Conclusion\n"
      ],
      "metadata": {
        "id": "ocf8sN62joam"
      }
    },
    {
      "cell_type": "markdown",
      "source": [
        "As we can see that XGBoost model is performing the best with highest accuracy score. Hence we will use XGBoost Model for predicion."
      ],
      "metadata": {
        "id": "eO-xIfyIjscw"
      }
    },
    {
      "cell_type": "markdown",
      "source": [
        "Why Xgbooost is performing the best?\n",
        "\n",
        "XGBoost is a decision-tree-based ensemble Machine Learning algorithm that uses a gradient boosting framework. XGBoost and gradient boosting machines are both ensemble tree methods that apply the principle of boosting weak learners using the gradient descent architecture. It goes through a cycle: first, it tests the existing models on a validation set; then, it adds a model to make the predictions better, each time putting more weight on instances with wrong predictions thus learning from past mistakes. This cycle repeats till an optimal ensemble method is reached (or till the max number of iterations is reached)."
      ],
      "metadata": {
        "id": "kABMhk5niP7f"
      }
    }
  ]
}